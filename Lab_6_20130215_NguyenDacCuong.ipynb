{
  "nbformat": 4,
  "nbformat_minor": 0,
  "metadata": {
    "colab": {
      "provenance": [],
      "include_colab_link": true
    },
    "kernelspec": {
      "name": "python3",
      "display_name": "Python 3"
    },
    "language_info": {
      "name": "python"
    }
  },
  "cells": [
    {
      "cell_type": "markdown",
      "metadata": {
        "id": "view-in-github",
        "colab_type": "text"
      },
      "source": [
        "<a href=\"https://colab.research.google.com/github/NguyenDacCuong2604/ML/blob/main/Lab_6_20130215_NguyenDacCuong.ipynb\" target=\"_parent\"><img src=\"https://colab.research.google.com/assets/colab-badge.svg\" alt=\"Open In Colab\"/></a>"
      ]
    },
    {
      "cell_type": "markdown",
      "source": [
        "# This lab is to deal with classification task using **Random Forests** and **Naïve Bayes** algorithms with/without **Feature Selection**. \n",
        "\n",
        "*   **Deadline: 23:59, 25/03/2023**\n",
        "\n"
      ],
      "metadata": {
        "id": "LMzehe0sy5wr"
      }
    },
    {
      "cell_type": "markdown",
      "source": [
        "# Import libraries"
      ],
      "metadata": {
        "id": "H4nJmxp9zGX4"
      }
    },
    {
      "cell_type": "code",
      "execution_count": 38,
      "metadata": {
        "id": "DoVWQ8AEyc-C"
      },
      "outputs": [],
      "source": [
        "# code\n",
        "from sklearn import datasets\n",
        "from sklearn.preprocessing import StandardScaler\n",
        "from sklearn.model_selection import train_test_split\n",
        "from sklearn.ensemble import RandomForestClassifier\n",
        "from sklearn.naive_bayes import GaussianNB\n",
        "from sklearn import svm\n",
        "from sklearn.metrics import accuracy_score, precision_score, recall_score, f1_score\n",
        "import pandas as pd\n",
        "from sklearn.feature_selection import SelectKBest\n",
        "from sklearn.feature_selection import f_classif\n",
        "from sklearn.feature_selection import SelectFromModel"
      ]
    },
    {
      "cell_type": "markdown",
      "source": [
        "#Task 1. \n",
        "Task 1. Compare the performance of selected classification algorithms including **Random forest**, **NaiveBayes**, and **SVM** with **mnist** dataset based on **accuracy, precision, recall, f1** measures according to **without using selection feature** and **using selection feature**.\n",
        "\n"
      ],
      "metadata": {
        "id": "kNv07ARGzOUm"
      }
    },
    {
      "cell_type": "code",
      "source": [
        "# code\n",
        "mnist = datasets.load_digits()\n",
        "X = mnist.data\n",
        "y = mnist.target\n",
        "#Chuan hoa du lieu\n",
        "scaler = StandardScaler()\n",
        "X_scaled = scaler.fit_transform(X)\n",
        "# Split 7-3\n",
        "X_train, X_test, y_train, y_test = train_test_split(X_scaled, y, test_size=0.3, random_state=42)\n",
        "#Random forest\n",
        "clf_randomforest=RandomForestClassifier(n_estimators=100)\n",
        "clf_randomforest.fit(X_train,y_train)\n",
        "y_pred_random = clf_randomforest.predict(X_test)\n",
        "#NaiveBayes\n",
        "model = GaussianNB()\n",
        "model.fit(X_train, y_train)\n",
        "y_pred_bayes = model.predict(X_test)\n",
        "#SVM with \n",
        "clf_linear = svm.SVC(kernel='linear')\n",
        "clf_linear.fit(X_train, y_train)\n",
        "y_pred_linear = clf_linear.predict(X_test)\n",
        "table = {\n",
        "    \"Random forest\":{\n",
        "        \"accuracy\": accuracy_score(y_test, y_pred_random),\n",
        "        \"precision\": precision_score(y_test, y_pred_random, average='macro'),\n",
        "        \"recall\": recall_score(y_test, y_pred_random, average='macro'),\n",
        "        \"f1\": f1_score(y_test, y_pred_random, average='macro')\n",
        "    },\n",
        "    \"NaiveBayes\":{\n",
        "        \"accuracy\": accuracy_score(y_test, y_pred_bayes),\n",
        "        \"precision\": precision_score(y_test, y_pred_bayes, average='macro'),\n",
        "        \"recall\": recall_score(y_test, y_pred_bayes, average='macro'),\n",
        "        \"f1\": f1_score(y_test, y_pred_bayes, average='macro')\n",
        "    },\n",
        "    \"SVM linear\":{\n",
        "        \"accuracy\": accuracy_score(y_test, y_pred_linear),\n",
        "        \"precision\": precision_score(y_test, y_pred_linear, average='macro'),\n",
        "        \"recall\": recall_score(y_test, y_pred_linear, average='macro'),\n",
        "        \"f1\": f1_score(y_test, y_pred_linear, average='macro')\n",
        "    }\n",
        "}\n",
        "#print\n",
        "df_metrics = pd.DataFrame.from_dict(table, orient='index')\n",
        "print(\"Without using selection feature\")\n",
        "print(df_metrics)\n"
      ],
      "metadata": {
        "id": "sOsg77IBzEyo",
        "colab": {
          "base_uri": "https://localhost:8080/"
        },
        "outputId": "d5d42ce7-da99-4918-8c22-57106064bdd0"
      },
      "execution_count": 58,
      "outputs": [
        {
          "output_type": "stream",
          "name": "stdout",
          "text": [
            "Without using selection feature\n",
            "               accuracy  precision    recall        f1\n",
            "Random forest  0.974074   0.974196  0.975202  0.974406\n",
            "NaiveBayes     0.787037   0.823782  0.782850  0.776377\n",
            "SVM linear     0.977778   0.977356  0.978005  0.977647\n"
          ]
        }
      ]
    },
    {
      "cell_type": "code",
      "source": [
        "#importances\n",
        "importances = clf_randomforest.feature_importances_\n",
        "#sort\n",
        "sorted_idx = np.argsort(importances)[::-1]\n",
        "#print rank\n",
        "for idx in sorted_idx:\n",
        "    print(f\"{mnist.feature_names[idx]}: {importances[idx]}\")"
      ],
      "metadata": {
        "colab": {
          "base_uri": "https://localhost:8080/"
        },
        "id": "YKDDBlGKgEBV",
        "outputId": "c4e10367-bc73-4d8b-d899-b40f13162aae"
      },
      "execution_count": 59,
      "outputs": [
        {
          "output_type": "stream",
          "name": "stdout",
          "text": [
            "pixel_2_5: 0.04423921064327283\n",
            "pixel_3_2: 0.041891078806300205\n",
            "pixel_5_3: 0.04071787222092779\n",
            "pixel_4_4: 0.040411064853041224\n",
            "pixel_5_2: 0.0392176149191152\n",
            "pixel_4_1: 0.03254453261832904\n",
            "pixel_7_5: 0.03103629712717796\n",
            "pixel_3_4: 0.030483654427052604\n",
            "pixel_3_6: 0.03022946140858903\n",
            "pixel_2_4: 0.029464298931540234\n",
            "pixel_1_2: 0.028031043774165543\n",
            "pixel_1_5: 0.027822969537770473\n",
            "pixel_3_3: 0.027461542253111593\n",
            "pixel_4_6: 0.026364979721726654\n",
            "pixel_6_5: 0.026326258670280676\n",
            "pixel_6_6: 0.02514729865909568\n",
            "pixel_2_3: 0.02441303674115626\n",
            "pixel_3_5: 0.024081675372666606\n",
            "pixel_4_2: 0.024070025186173415\n",
            "pixel_7_2: 0.023546010326963452\n",
            "pixel_2_2: 0.023539761938110824\n",
            "pixel_6_3: 0.02248961141982214\n",
            "pixel_5_4: 0.021977400541877024\n",
            "pixel_5_5: 0.021899712218901395\n",
            "pixel_5_6: 0.02152025390977992\n",
            "pixel_0_2: 0.02141763062804374\n",
            "pixel_7_4: 0.01996902500413769\n",
            "pixel_0_5: 0.019260400654787672\n",
            "pixel_4_5: 0.018570285784242427\n",
            "pixel_6_2: 0.018435144296604856\n",
            "pixel_4_3: 0.016111957733899222\n",
            "pixel_1_4: 0.016024482899392897\n",
            "pixel_7_6: 0.014461508172523238\n",
            "pixel_6_4: 0.012690806696722899\n",
            "pixel_3_1: 0.01183560215638643\n",
            "pixel_1_1: 0.011450667885256031\n",
            "pixel_7_3: 0.010817291605118445\n",
            "pixel_0_3: 0.010727256931134037\n",
            "pixel_0_6: 0.009021363335135861\n",
            "pixel_5_1: 0.008577175390294369\n",
            "pixel_0_4: 0.008288242253478522\n",
            "pixel_1_3: 0.008174457063628683\n",
            "pixel_2_6: 0.007366439186197039\n",
            "pixel_2_1: 0.006522408996216244\n",
            "pixel_1_6: 0.004754578095556855\n",
            "pixel_7_7: 0.0033435410255529476\n",
            "pixel_7_1: 0.0030950635616931077\n",
            "pixel_6_1: 0.003006106360495312\n",
            "pixel_0_1: 0.0029435866265361483\n",
            "pixel_6_7: 0.0017085164631675948\n",
            "pixel_0_7: 0.0008892304102078937\n",
            "pixel_1_7: 0.0008020784375363223\n",
            "pixel_2_7: 0.0005095596550309326\n",
            "pixel_5_0: 7.51554503992018e-05\n",
            "pixel_3_7: 7.27721394230641e-05\n",
            "pixel_5_7: 5.5090903229903024e-05\n",
            "pixel_1_0: 4.126059482770479e-05\n",
            "pixel_7_0: 3.789394800031902e-05\n",
            "pixel_2_0: 1.675342819467846e-05\n",
            "pixel_3_0: 0.0\n",
            "pixel_4_0: 0.0\n",
            "pixel_4_7: 0.0\n",
            "pixel_6_0: 0.0\n",
            "pixel_0_0: 0.0\n"
          ]
        }
      ]
    },
    {
      "cell_type": "code",
      "source": [
        "#lay tu 0.001\n",
        "#dung selectfrommodel de lay nhung feature co gia tri importances >= 0.001 (fix cung theo minh)\n",
        "sfm = SelectFromModel(clf_randomforest, threshold=0.001)\n",
        "X_train = sfm.fit_transform(X_train, y_train)\n",
        "X_test = sfm.transform(X_test)\n",
        "\n",
        "#Random forest\n",
        "clf_randomforest=RandomForestClassifier(n_estimators=100)\n",
        "clf_randomforest.fit(X_train,y_train)\n",
        "y_pred_random = clf_randomforest.predict(X_test)\n",
        "#NaiveBayes\n",
        "model = GaussianNB()\n",
        "model.fit(X_train, y_train)\n",
        "y_pred_bayes = model.predict(X_test)\n",
        "#SVM with \n",
        "clf_linear = svm.SVC(kernel='linear')\n",
        "clf_linear.fit(X_train, y_train)\n",
        "y_pred_linear = clf_linear.predict(X_test)\n",
        "table = {\n",
        "    \"Random forest\":{\n",
        "        \"accuracy\": accuracy_score(y_test, y_pred_random),\n",
        "        \"precision\": precision_score(y_test, y_pred_random, average='macro'),\n",
        "        \"recall\": recall_score(y_test, y_pred_random, average='macro'),\n",
        "        \"f1\": f1_score(y_test, y_pred_random, average='macro')\n",
        "    },\n",
        "    \"NaiveBayes\":{\n",
        "        \"accuracy\": accuracy_score(y_test, y_pred_bayes),\n",
        "        \"precision\": precision_score(y_test, y_pred_bayes, average='macro'),\n",
        "        \"recall\": recall_score(y_test, y_pred_bayes, average='macro'),\n",
        "        \"f1\": f1_score(y_test, y_pred_bayes, average='macro')\n",
        "    },\n",
        "    \"SVM linear\":{\n",
        "        \"accuracy\": accuracy_score(y_test, y_pred_linear),\n",
        "        \"precision\": precision_score(y_test, y_pred_linear, average='macro'),\n",
        "        \"recall\": recall_score(y_test, y_pred_linear, average='macro'),\n",
        "        \"f1\": f1_score(y_test, y_pred_linear, average='macro')\n",
        "    }\n",
        "}\n",
        "#print\n",
        "df_metrics = pd.DataFrame.from_dict(table, orient='index')\n",
        "print(df_metrics)\n"
      ],
      "metadata": {
        "colab": {
          "base_uri": "https://localhost:8080/"
        },
        "id": "mbu8d-8vxVIT",
        "outputId": "7e11eaeb-426a-4b3a-83d8-15c9be473e11"
      },
      "execution_count": 60,
      "outputs": [
        {
          "output_type": "stream",
          "name": "stdout",
          "text": [
            "               accuracy  precision    recall        f1\n",
            "Random forest  0.974074   0.974263  0.974746  0.974188\n",
            "NaiveBayes     0.855556   0.863076  0.851811  0.847551\n",
            "SVM linear     0.981481   0.981396  0.981846  0.981561\n"
          ]
        }
      ]
    },
    {
      "cell_type": "markdown",
      "source": [
        "#Task 2. \n",
        "For given bank dataset (bank.csv) having the following attributes :\n",
        "1.\t**age** (numeric)\n",
        "2.\t**job** : type of job (categorical: 'admin.','blue-collar','entrepreneur','housemaid','management','retired','self-employed','services','student','technician','unemployed','unknown')\n",
        "3.\t**marital** : marital status (categorical: 'divorced','married','single','unknown'; note: 'divorced' means divorced or widowed)\n",
        "4.\t**education** (categorical: 'basic.4y','basic.6y','basic.9y','high.school','illiterate','professional.course','university.degree','unknown')\n",
        "5.\t**default**: has credit in default? (categorical: 'no','yes','unknown')\n",
        "6.\t**housing**: has housing loan? (categorical: 'no','yes','unknown')\n",
        "7.\t**loan**: has personal loan? (categorical: 'no','yes','unknown')\n",
        "8.\t**contact**: contact communication type (categorical: 'cellular','telephone')\n",
        "9.\t**month**: last contact month of year (categorical: 'jan', 'feb', 'mar', ..., 'nov', 'dec')\n",
        "10.\t**day_of_week**: last contact day of the week (categorical: 'mon','tue','wed','thu','fri')\n",
        "11.\t**duration**: last contact duration, in seconds (numeric). Important note: this attribute highly affects the output target (e.g., if duration=0 then y='no'). Yet, the duration is not known before a call is performed. Also, after the end of the call y is obviously known. Thus, this input should only be included for benchmark purposes and should be discarded if the intention is to have a realistic predictive model.\n",
        "12.\t**campaign**: number of contacts performed during this campaign and for this client (numeric, includes last contact)\n",
        "13.\t**pdays**: number of days that passed by after the client was last contacted from a previous campaign (numeric; 999 means client was not previously contacted)\n",
        "14.\t**previous**: number of contacts performed before this campaign and for this client (numeric)\n",
        "15.\t**poutcome**: outcome of the previous marketing campaign (categorical: 'failure','nonexistent','success')\n",
        "Output variable (desired target):\n",
        "16.\t**y**. has the client subscribed a term deposit? (binary: 'yes','no')\n",
        "\n"
      ],
      "metadata": {
        "id": "b52OPWPD2afi"
      }
    },
    {
      "cell_type": "code",
      "source": [
        "\n",
        "#import library\n",
        "from google.colab import drive\n",
        "drive.mount('/content/gdrive')\n",
        "%cd '/content/gdrive/MyDrive/ML'\n",
        "import pandas as pd\n",
        "import numpy as np\n",
        "from sklearn.preprocessing import OneHotEncoder\n",
        "from sklearn.tree import DecisionTreeClassifier\n",
        "from sklearn.neighbors import KNeighborsClassifier\n"
      ],
      "metadata": {
        "colab": {
          "base_uri": "https://localhost:8080/"
        },
        "id": "ftquTYWLyVib",
        "outputId": "9adb1426-6567-4166-b28e-b97ad3dbe5fc"
      },
      "execution_count": 62,
      "outputs": [
        {
          "output_type": "stream",
          "name": "stdout",
          "text": [
            "Drive already mounted at /content/gdrive; to attempt to forcibly remount, call drive.mount(\"/content/gdrive\", force_remount=True).\n",
            "/content/gdrive/MyDrive/ML\n"
          ]
        }
      ]
    },
    {
      "cell_type": "code",
      "source": [
        "dataSet = pd.read_csv(\"bank.csv\")\n",
        "print(dataSet)"
      ],
      "metadata": {
        "colab": {
          "base_uri": "https://localhost:8080/"
        },
        "id": "GJp4BUxVygl6",
        "outputId": "672e9479-5eca-4d06-a038-584b145155b0"
      },
      "execution_count": 70,
      "outputs": [
        {
          "output_type": "stream",
          "name": "stdout",
          "text": [
            "       age          job  marital  education default  balance housing loan  \\\n",
            "0       59       admin.  married  secondary      no     2343     yes   no   \n",
            "1       56       admin.  married  secondary      no       45      no   no   \n",
            "2       41   technician  married  secondary      no     1270     yes   no   \n",
            "3       55     services  married  secondary      no     2476     yes   no   \n",
            "4       54       admin.  married   tertiary      no      184      no   no   \n",
            "...    ...          ...      ...        ...     ...      ...     ...  ...   \n",
            "11157   33  blue-collar   single    primary      no        1     yes   no   \n",
            "11158   39     services  married  secondary      no      733      no   no   \n",
            "11159   32   technician   single  secondary      no       29      no   no   \n",
            "11160   43   technician  married  secondary      no        0      no  yes   \n",
            "11161   34   technician  married  secondary      no        0      no   no   \n",
            "\n",
            "        contact  day month  duration  campaign  pdays  previous poutcome  \\\n",
            "0       unknown    5   may      1042         1     -1         0  unknown   \n",
            "1       unknown    5   may      1467         1     -1         0  unknown   \n",
            "2       unknown    5   may      1389         1     -1         0  unknown   \n",
            "3       unknown    5   may       579         1     -1         0  unknown   \n",
            "4       unknown    5   may       673         2     -1         0  unknown   \n",
            "...         ...  ...   ...       ...       ...    ...       ...      ...   \n",
            "11157  cellular   20   apr       257         1     -1         0  unknown   \n",
            "11158   unknown   16   jun        83         4     -1         0  unknown   \n",
            "11159  cellular   19   aug       156         2     -1         0  unknown   \n",
            "11160  cellular    8   may         9         2    172         5  failure   \n",
            "11161  cellular    9   jul       628         1     -1         0  unknown   \n",
            "\n",
            "      deposit  \n",
            "0         yes  \n",
            "1         yes  \n",
            "2         yes  \n",
            "3         yes  \n",
            "4         yes  \n",
            "...       ...  \n",
            "11157      no  \n",
            "11158      no  \n",
            "11159      no  \n",
            "11160      no  \n",
            "11161      no  \n",
            "\n",
            "[11162 rows x 17 columns]\n"
          ]
        }
      ]
    },
    {
      "cell_type": "markdown",
      "source": [
        "#3.1. Apply StandardScaler() function to columns that contains numerical data ('age', 'balance', 'day', 'campaign', 'pdays', 'previous')"
      ],
      "metadata": {
        "id": "q89LEvT7dqaZ"
      }
    },
    {
      "cell_type": "code",
      "source": [
        "#code\n",
        "#StandardScaler\n",
        "scaler = StandardScaler()\n",
        "dataSet[['age', 'balance', 'day', 'campaign', 'pdays', 'previous']] = scaler.fit_transform(dataSet[['age', 'balance', 'day', 'campaign', 'pdays', 'previous']])\n",
        "print(dataSet[['age', 'balance', 'day', 'campaign', 'pdays', 'previous']])"
      ],
      "metadata": {
        "id": "8vx3mfIidu4P",
        "colab": {
          "base_uri": "https://localhost:8080/"
        },
        "outputId": "b44037fb-73f9-454a-9405-1a5353b6bfb4"
      },
      "execution_count": 71,
      "outputs": [
        {
          "output_type": "stream",
          "name": "stdout",
          "text": [
            "            age   balance       day  campaign     pdays  previous\n",
            "0      1.491505  0.252525 -1.265746 -0.554168 -0.481184 -0.363260\n",
            "1      1.239676 -0.459974 -1.265746 -0.554168 -0.481184 -0.363260\n",
            "2     -0.019470 -0.080160 -1.265746 -0.554168 -0.481184 -0.363260\n",
            "3      1.155733  0.293762 -1.265746 -0.554168 -0.481184 -0.363260\n",
            "4      1.071790 -0.416876 -1.265746 -0.186785 -0.481184 -0.363260\n",
            "...         ...       ...       ...       ...       ...       ...\n",
            "11157 -0.691015 -0.473616  0.515650 -0.554168 -0.481184 -0.363260\n",
            "11158 -0.187357 -0.246658  0.040612  0.547981 -0.481184 -0.363260\n",
            "11159 -0.774958 -0.464934  0.396891 -0.186785 -0.481184 -0.363260\n",
            "11160  0.148416 -0.473926 -0.909466 -0.186785  1.109571  1.818332\n",
            "11161 -0.607072 -0.473926 -0.790707 -0.554168 -0.481184 -0.363260\n",
            "\n",
            "[11162 rows x 6 columns]\n"
          ]
        }
      ]
    },
    {
      "cell_type": "markdown",
      "source": [
        "#3.2. Apply Encode Categorical Value (OneHotEncoder) to transfrom categorical data to numerical data ('job', 'marital', 'education', 'default', 'housing', 'loan', 'contact', 'month', 'poutcome')"
      ],
      "metadata": {
        "id": "r7acR0TxdvY8"
      }
    },
    {
      "cell_type": "code",
      "source": [
        "encode_cols = ['job', 'marital', 'education', 'default', 'housing', 'loan', 'contact', 'month', 'poutcome']\n",
        "onehotencoder = OneHotEncoder()\n",
        "onehotencoder.fit(dataSet[encode_cols])\n",
        "onehot_encoded = onehotencoder.transform(dataSet[encode_cols]).toarray()\n",
        "onehot_encoded_df = pd.DataFrame(onehot_encoded, columns=onehotencoder.get_feature_names_out(encode_cols))\n",
        "dataSet = pd.concat([dataSet, onehot_encoded_df], axis=1)\n",
        "dataSet = dataSet.drop(encode_cols, axis=1)\n",
        "print(dataSet.columns)\n"
      ],
      "metadata": {
        "colab": {
          "base_uri": "https://localhost:8080/"
        },
        "id": "WQR_uWau2AJL",
        "outputId": "41aec879-d796-4502-b09e-b942d88a359d"
      },
      "execution_count": 72,
      "outputs": [
        {
          "output_type": "stream",
          "name": "stdout",
          "text": [
            "Index(['age', 'balance', 'day', 'duration', 'campaign', 'pdays', 'previous',\n",
            "       'deposit', 'job_admin.', 'job_blue-collar', 'job_entrepreneur',\n",
            "       'job_housemaid', 'job_management', 'job_retired', 'job_self-employed',\n",
            "       'job_services', 'job_student', 'job_technician', 'job_unemployed',\n",
            "       'job_unknown', 'marital_divorced', 'marital_married', 'marital_single',\n",
            "       'education_primary', 'education_secondary', 'education_tertiary',\n",
            "       'education_unknown', 'default_no', 'default_yes', 'housing_no',\n",
            "       'housing_yes', 'loan_no', 'loan_yes', 'contact_cellular',\n",
            "       'contact_telephone', 'contact_unknown', 'month_apr', 'month_aug',\n",
            "       'month_dec', 'month_feb', 'month_jan', 'month_jul', 'month_jun',\n",
            "       'month_mar', 'month_may', 'month_nov', 'month_oct', 'month_sep',\n",
            "       'poutcome_failure', 'poutcome_other', 'poutcome_success',\n",
            "       'poutcome_unknown'],\n",
            "      dtype='object')\n"
          ]
        }
      ]
    },
    {
      "cell_type": "markdown",
      "source": [
        "#3.3. Apply **Decision tree, Random forest, kNN, NaïveBayes** to preproceed dataset in the previous steps. Then compare the obtained results using **accuracy, precision, recall, f1** measures."
      ],
      "metadata": {
        "id": "K2Si6d69d1nh"
      }
    },
    {
      "cell_type": "code",
      "source": [
        "#code\n",
        "# Split 7-3\n",
        "X_train, X_test, y_train, y_test = train_test_split(dataSet.drop('deposit', axis=1), dataSet['deposit'], test_size=0.3, random_state=42)\n",
        "#Decision Tree\n",
        "tree = DecisionTreeClassifier(criterion=\"gini\", random_state=42, max_depth=5, min_samples_leaf=10)\n",
        "tree.fit(X_train, y_train)\n",
        "y_pred_tree = tree.predict(X_test)\n",
        "#Random forest\n",
        "clf_randomforest=RandomForestClassifier(n_estimators=100)\n",
        "clf_randomforest.fit(X_train,y_train)\n",
        "y_pred_random = clf_randomforest.predict(X_test)\n",
        "#kNN\n",
        "knn = KNeighborsClassifier(n_neighbors=5)\n",
        "knn.fit(X_train, y_train)\n",
        "y_pred_knn = knn.predict(X_test)\n",
        "#NaiveBayes\n",
        "model = GaussianNB()\n",
        "model.fit(X_train, y_train)\n",
        "y_pred_bayes = model.predict(X_test)\n",
        "table = {\n",
        "    \"Decision Tree\":{\n",
        "        \"accuracy\": accuracy_score(y_test, y_pred_tree),\n",
        "        \"precision\": precision_score(y_test, y_pred_tree, average='macro',zero_division=1),\n",
        "        \"recall\": recall_score(y_test, y_pred_tree, average='macro'),\n",
        "        \"f1\": f1_score(y_test, y_pred_tree, average='macro')\n",
        "    },\n",
        "    \"Random forest\":{\n",
        "        \"accuracy\": accuracy_score(y_test, y_pred_random),\n",
        "        \"precision\": precision_score(y_test, y_pred_random, average='macro',zero_division=1),\n",
        "        \"recall\": recall_score(y_test, y_pred_random, average='macro'),\n",
        "        \"f1\": f1_score(y_test, y_pred_random, average='macro')\n",
        "    },\n",
        "    \"kNN\":{\n",
        "        \"accuracy\": accuracy_score(y_test, y_pred_knn),\n",
        "        \"precision\": precision_score(y_test, y_pred_knn, average='macro',zero_division=1),\n",
        "        \"recall\": recall_score(y_test, y_pred_knn, average='macro'),\n",
        "        \"f1\": f1_score(y_test, y_pred_knn, average='macro')\n",
        "    },\n",
        "    \"NaiveBayes\":{\n",
        "        \"accuracy\": accuracy_score(y_test, y_pred_bayes),\n",
        "        \"precision\": precision_score(y_test, y_pred_bayes, average='macro',zero_division=1),\n",
        "        \"recall\": recall_score(y_test, y_pred_bayes, average='macro'),\n",
        "        \"f1\": f1_score(y_test, y_pred_bayes, average='macro')\n",
        "    },  \n",
        "}\n",
        "#print\n",
        "df_metrics = pd.DataFrame.from_dict(table, orient='index')\n",
        "print(\"Without using selection feature\")\n",
        "print(df_metrics)"
      ],
      "metadata": {
        "id": "Ouil-cf_d8jW",
        "colab": {
          "base_uri": "https://localhost:8080/"
        },
        "outputId": "47474233-0d35-44d2-c661-f44bb8001878"
      },
      "execution_count": 73,
      "outputs": [
        {
          "output_type": "stream",
          "name": "stdout",
          "text": [
            "Without using selection feature\n",
            "               accuracy  precision    recall        f1\n",
            "Decision Tree  0.789788   0.791646  0.787806  0.788402\n",
            "Random forest  0.843535   0.844181  0.844559  0.843524\n",
            "kNN            0.769782   0.769419  0.769323  0.769367\n",
            "NaiveBayes     0.723500   0.739052  0.717793  0.715221\n"
          ]
        }
      ]
    },
    {
      "cell_type": "markdown",
      "source": [
        "#3.4. Using selection feature to above dataset, then compare the classification results with those in Task 2.3. "
      ],
      "metadata": {
        "id": "SweVRB4meApP"
      }
    },
    {
      "cell_type": "code",
      "source": [
        "#importances\n",
        "importances = clf_randomforest.feature_importances_\n",
        "#sort\n",
        "sorted_idx = np.argsort(importances)[::-1]\n",
        "#print rank\n",
        "for idx in sorted_idx:\n",
        "    print(f\"{importances[idx]}\")"
      ],
      "metadata": {
        "colab": {
          "base_uri": "https://localhost:8080/"
        },
        "id": "wUBufoW7qJT_",
        "outputId": "8585fc97-efed-46b6-e6dd-bfd4fdccbaf3"
      },
      "execution_count": 84,
      "outputs": [
        {
          "output_type": "stream",
          "name": "stdout",
          "text": [
            "0.3314231096623858\n",
            "0.07599159349085008\n",
            "0.07187315079040531\n",
            "0.06481888284424456\n",
            "0.03555888172262171\n",
            "0.03479318386922252\n",
            "0.030425942517515642\n",
            "0.022399171308172705\n",
            "0.019604271628014962\n",
            "0.016163847482304837\n",
            "0.015862370833261398\n",
            "0.014888505164652623\n",
            "0.014609028756471996\n",
            "0.011855009105408125\n",
            "0.011674197183913555\n",
            "0.011389481075648404\n",
            "0.011051744498895821\n",
            "0.011013594058997222\n",
            "0.010663216910825198\n",
            "0.010004975256234278\n",
            "0.009782655693413835\n",
            "0.009727232074031323\n",
            "0.009141111190053609\n",
            "0.008747375612140172\n",
            "0.008651425655616595\n",
            "0.008582040065378486\n",
            "0.008399944159156314\n",
            "0.008202562461937239\n",
            "0.008067328651305697\n",
            "0.007684671757896061\n",
            "0.007481275985507849\n",
            "0.006526673949776138\n",
            "0.006494319962711126\n",
            "0.006271780493648447\n",
            "0.006044293448856197\n",
            "0.005636136824678895\n",
            "0.005591218963369056\n",
            "0.004899948271608399\n",
            "0.004607164828855715\n",
            "0.004399946051467513\n",
            "0.004156947162837741\n",
            "0.004044265757103813\n",
            "0.003725299134164133\n",
            "0.003644116424204716\n",
            "0.0030142423128159453\n",
            "0.002853087354089874\n",
            "0.0028500147451668745\n",
            "0.0014525780415677492\n",
            "0.0011093656522897768\n",
            "0.001101749130182605\n",
            "0.0010450700241213665\n"
          ]
        }
      ]
    },
    {
      "cell_type": "code",
      "source": [
        "#lay tu 0.01\n",
        "#dung selectfrommodel de lay nhung feature co gia tri importances >= 0.01 (fix cung theo minh)\n",
        "sfm = SelectFromModel(clf_randomforest, threshold=0.01)\n",
        "X_train = sfm.fit_transform(X_train, y_train)\n",
        "X_test = sfm.transform(X_test)"
      ],
      "metadata": {
        "id": "X_CYyrGwv5bT"
      },
      "execution_count": 85,
      "outputs": []
    },
    {
      "cell_type": "code",
      "source": [
        "#code\n",
        "#Decision Tree\n",
        "tree = DecisionTreeClassifier(criterion=\"gini\", random_state=42, max_depth=5, min_samples_leaf=10)\n",
        "tree.fit(X_train, y_train)\n",
        "y_pred_tree = tree.predict(X_test)\n",
        "#Random forest\n",
        "clf_randomforest=RandomForestClassifier(n_estimators=100)\n",
        "clf_randomforest.fit(X_train,y_train)\n",
        "y_pred_random = clf_randomforest.predict(X_test)\n",
        "#kNN\n",
        "knn = KNeighborsClassifier(n_neighbors=5)\n",
        "knn.fit(X_train, y_train)\n",
        "y_pred_knn = knn.predict(X_test)\n",
        "#NaiveBayes\n",
        "model = GaussianNB()\n",
        "model.fit(X_train, y_train)\n",
        "y_pred_bayes = model.predict(X_test)\n",
        "table = {\n",
        "    \"Decision Tree\":{\n",
        "        \"accuracy\": accuracy_score(y_test, y_pred_tree),\n",
        "        \"precision\": precision_score(y_test, y_pred_tree, average='macro',zero_division=1),\n",
        "        \"recall\": recall_score(y_test, y_pred_tree, average='macro'),\n",
        "        \"f1\": f1_score(y_test, y_pred_tree, average='macro')\n",
        "    },\n",
        "    \"Random forest\":{\n",
        "        \"accuracy\": accuracy_score(y_test, y_pred_random),\n",
        "        \"precision\": precision_score(y_test, y_pred_random, average='macro',zero_division=1),\n",
        "        \"recall\": recall_score(y_test, y_pred_random, average='macro'),\n",
        "        \"f1\": f1_score(y_test, y_pred_random, average='macro')\n",
        "    },\n",
        "    \"kNN\":{\n",
        "        \"accuracy\": accuracy_score(y_test, y_pred_knn),\n",
        "        \"precision\": precision_score(y_test, y_pred_knn, average='macro',zero_division=1),\n",
        "        \"recall\": recall_score(y_test, y_pred_knn, average='macro'),\n",
        "        \"f1\": f1_score(y_test, y_pred_knn, average='macro')\n",
        "    },\n",
        "    \"NaiveBayes\":{\n",
        "        \"accuracy\": accuracy_score(y_test, y_pred_bayes),\n",
        "        \"precision\": precision_score(y_test, y_pred_bayes, average='macro',zero_division=1),\n",
        "        \"recall\": recall_score(y_test, y_pred_bayes, average='macro'),\n",
        "        \"f1\": f1_score(y_test, y_pred_bayes, average='macro')\n",
        "    },  \n",
        "}\n",
        "#print\n",
        "df_metrics = pd.DataFrame.from_dict(table, orient='index')\n",
        "print(\"Without using selection feature\")\n",
        "print(df_metrics)"
      ],
      "metadata": {
        "id": "seFBhqCSeC7C",
        "colab": {
          "base_uri": "https://localhost:8080/"
        },
        "outputId": "f4d821f1-bb95-4253-90cb-12c91af76118"
      },
      "execution_count": 86,
      "outputs": [
        {
          "output_type": "stream",
          "name": "stdout",
          "text": [
            "Without using selection feature\n",
            "               accuracy  precision    recall        f1\n",
            "Decision Tree  0.789788   0.791646  0.787806  0.788402\n",
            "Random forest  0.836369   0.836772  0.837236  0.836345\n",
            "kNN            0.767095   0.766955  0.766161  0.766412\n",
            "NaiveBayes     0.734846   0.751185  0.729206  0.727022\n"
          ]
        }
      ]
    },
    {
      "cell_type": "markdown",
      "source": [
        "#Task 4. \n",
        "For a given dataset in the Lab #5 (**credit card dataset**), perform feature selection and thencompare the performance of selected classification algorithms (Decision Tree, kNN, Logistic Regression, SVM, Random Forest and NaiveBayes) based on accuracy, precision, recall, f1 measures.\n"
      ],
      "metadata": {
        "id": "Z5pp7_h-aP2u"
      }
    },
    {
      "cell_type": "code",
      "source": [
        "from sklearn.linear_model import LogisticRegression\n",
        "from sklearn import svm"
      ],
      "metadata": {
        "id": "FL-bjdZ0wpxs"
      },
      "execution_count": 89,
      "outputs": []
    },
    {
      "cell_type": "code",
      "source": [
        "dataSet = pd.read_csv(\"creditcard.csv\")"
      ],
      "metadata": {
        "id": "u3yrE4mdwXFS"
      },
      "execution_count": 87,
      "outputs": []
    },
    {
      "cell_type": "code",
      "source": [
        "X = dataSet.drop('Class', axis=1)\n",
        "y = dataSet['Class']\n",
        "#Chuan hoa du lieu\n",
        "scaler = StandardScaler()\n",
        "X_scaled = scaler.fit_transform(X)\n",
        "# Split 7-3\n",
        "X_train, X_test, y_train, y_test = train_test_split(X_scaled, y, test_size=0.3, random_state=42)\n",
        "#Decision Tree\n",
        "tree = DecisionTreeClassifier(criterion=\"gini\", random_state=42, max_depth=3, min_samples_leaf=5)\n",
        "tree.fit(X_train, y_train)\n",
        "y_pred_tree = tree.predict(X_test)\n",
        "#Knn\n",
        "knn = KNeighborsClassifier(n_neighbors=5)\n",
        "knn.fit(X_train, y_train)\n",
        "y_pred_knn = knn.predict(X_test)\n",
        "#Logistic Regression\n",
        "logistic = LogisticRegression(max_iter=1000)\n",
        "logistic.fit(X_train, y_train)\n",
        "y_pred_logistic = logistic.predict(X_test)\n",
        "#Polynomial Kernel\n",
        "clf = svm.SVC(kernel='poly')\n",
        "clf.fit(X_train, y_train)\n",
        "y_pred_polynomial = clf.predict(X_test)\n",
        "#Random forest\n",
        "clf_randomforest=RandomForestClassifier(n_estimators=100)\n",
        "clf_randomforest.fit(X_train,y_train)\n",
        "y_pred_random = clf_randomforest.predict(X_test)\n",
        "#NaiveBayes\n",
        "model = GaussianNB()\n",
        "model.fit(X_train, y_train)\n",
        "y_pred_bayes = model.predict(X_test)\n",
        "#Create table\n",
        "table = {\n",
        "    \"Logistic\":{\n",
        "        \"accuracy\": accuracy_score(y_test, y_pred_logistic),\n",
        "        \"precision\": precision_score(y_test, y_pred_logistic, average='macro'),\n",
        "        \"recall\": recall_score(y_test, y_pred_logistic, average='macro'),\n",
        "        \"f1\": f1_score(y_test, y_pred_logistic, average='macro')\n",
        "    },\n",
        "    \"Knn\":{\n",
        "        \"accuracy\": accuracy_score(y_test, y_pred_knn),\n",
        "        \"precision\": precision_score(y_test, y_pred_knn, average='macro'),\n",
        "        \"recall\": recall_score(y_test, y_pred_knn, average='macro'),\n",
        "        \"f1\": f1_score(y_test, y_pred_knn, average='macro')\n",
        "    },\n",
        "    \"Tree\":{\n",
        "        \"accuracy\": accuracy_score(y_test, y_pred_tree),\n",
        "        \"precision\": precision_score(y_test, y_pred_tree, average='macro'),\n",
        "        \"recall\": recall_score(y_test, y_pred_tree, average='macro'),\n",
        "        \"f1\": f1_score(y_test, y_pred_tree, average='macro')\n",
        "    },\n",
        "    \"Polynomial Kernel\":{\n",
        "        \"accuracy\": accuracy_score(y_test, y_pred_polynomial),\n",
        "        \"precision\": precision_score(y_test, y_pred_polynomial, average='macro'),\n",
        "        \"recall\": recall_score(y_test, y_pred_polynomial, average='macro'),\n",
        "        \"f1\": f1_score(y_test, y_pred_polynomial, average='macro')\n",
        "    },\n",
        "    \"Random forest\":{\n",
        "        \"accuracy\": accuracy_score(y_test, y_pred_random),\n",
        "        \"precision\": precision_score(y_test, y_pred_random, average='macro',zero_division=1),\n",
        "        \"recall\": recall_score(y_test, y_pred_random, average='macro'),\n",
        "        \"f1\": f1_score(y_test, y_pred_random, average='macro')\n",
        "    },\n",
        "    \"NaiveBayes\":{\n",
        "        \"accuracy\": accuracy_score(y_test, y_pred_bayes),\n",
        "        \"precision\": precision_score(y_test, y_pred_bayes, average='macro',zero_division=1),\n",
        "        \"recall\": recall_score(y_test, y_pred_bayes, average='macro'),\n",
        "        \"f1\": f1_score(y_test, y_pred_bayes, average='macro')\n",
        "    }\n",
        "}\n",
        "#print\n",
        "df_metrics = pd.DataFrame.from_dict(table, orient='index')\n",
        "print(df_metrics)"
      ],
      "metadata": {
        "colab": {
          "base_uri": "https://localhost:8080/"
        },
        "id": "JZJWVWerwi-k",
        "outputId": "e48d2497-da61-4fd5-f046-fe8e5b2cd4d2"
      },
      "execution_count": 90,
      "outputs": [
        {
          "output_type": "stream",
          "name": "stdout",
          "text": [
            "                   accuracy  precision    recall        f1\n",
            "Logistic           0.999274   0.938483  0.816106  0.867340\n",
            "Knn                0.999415   0.928973  0.878577  0.902197\n",
            "Tree               0.999368   0.929602  0.860200  0.891842\n",
            "Polynomial Kernel  0.999485   0.948088  0.882283  0.912569\n",
            "Random forest      0.999614   0.962669  0.911712  0.935701\n",
            "NaiveBayes         0.978044   0.529062  0.911922  0.549048\n"
          ]
        }
      ]
    },
    {
      "cell_type": "code",
      "source": [
        "#importances\n",
        "importances = clf_randomforest.feature_importances_\n",
        "#sort\n",
        "sorted_idx = np.argsort(importances)[::-1]\n",
        "#print rank\n",
        "for idx in sorted_idx:\n",
        "    print(f\"{importances[idx]}\")"
      ],
      "metadata": {
        "colab": {
          "base_uri": "https://localhost:8080/"
        },
        "id": "EXvug32yzRfc",
        "outputId": "2f4aa8b7-39f8-43ba-b949-1d2338cf7fd1"
      },
      "execution_count": 91,
      "outputs": [
        {
          "output_type": "stream",
          "name": "stdout",
          "text": [
            "0.17922162914385015\n",
            "0.13913376874497724\n",
            "0.1079045918711273\n",
            "0.07966348509454448\n",
            "0.07168790576283544\n",
            "0.062413812204434684\n",
            "0.037330721320643426\n",
            "0.03412939104099797\n",
            "0.028234863765347003\n",
            "0.019083575315581202\n",
            "0.018241172003925648\n",
            "0.018188944619591585\n",
            "0.015038089258804071\n",
            "0.014214155441364206\n",
            "0.014204350300245113\n",
            "0.013085643662253456\n",
            "0.012894400281493414\n",
            "0.012108605984230901\n",
            "0.012085447692646762\n",
            "0.011810721293284107\n",
            "0.011650398888626705\n",
            "0.010975397863077887\n",
            "0.01064826301685176\n",
            "0.010382894514327801\n",
            "0.010209500171847758\n",
            "0.010072098798264425\n",
            "0.009759558155630373\n",
            "0.00972861318298937\n",
            "0.008843786842213274\n",
            "0.007054213763992558\n"
          ]
        }
      ]
    },
    {
      "cell_type": "code",
      "source": [
        "#lay tu 0.012\n",
        "#dung selectfrommodel de lay nhung feature co gia tri importances >= 0.012 (fix cung theo minh)\n",
        "sfm = SelectFromModel(clf_randomforest, threshold=0.012)\n",
        "X_train = sfm.fit_transform(X_train, y_train)\n",
        "X_test = sfm.transform(X_test)"
      ],
      "metadata": {
        "id": "5t8cfVl6zZCL"
      },
      "execution_count": 92,
      "outputs": []
    },
    {
      "cell_type": "code",
      "source": [
        "# code\n",
        "#Decision Tree\n",
        "tree = DecisionTreeClassifier(criterion=\"gini\", random_state=42, max_depth=3, min_samples_leaf=5)\n",
        "tree.fit(X_train, y_train)\n",
        "y_pred_tree = tree.predict(X_test)\n",
        "#Knn\n",
        "knn = KNeighborsClassifier(n_neighbors=5)\n",
        "knn.fit(X_train, y_train)\n",
        "y_pred_knn = knn.predict(X_test)\n",
        "#Logistic Regression\n",
        "logistic = LogisticRegression(max_iter=1000)\n",
        "logistic.fit(X_train, y_train)\n",
        "y_pred_logistic = logistic.predict(X_test)\n",
        "#Polynomial Kernel\n",
        "clf = svm.SVC(kernel='poly')\n",
        "clf.fit(X_train, y_train)\n",
        "y_pred_polynomial = clf.predict(X_test)\n",
        "#Random forest\n",
        "clf_randomforest=RandomForestClassifier(n_estimators=100)\n",
        "clf_randomforest.fit(X_train,y_train)\n",
        "y_pred_random = clf_randomforest.predict(X_test)\n",
        "#NaiveBayes\n",
        "model = GaussianNB()\n",
        "model.fit(X_train, y_train)\n",
        "y_pred_bayes = model.predict(X_test)\n",
        "#Create table\n",
        "table = {\n",
        "    \"Logistic\":{\n",
        "        \"accuracy\": accuracy_score(y_test, y_pred_logistic),\n",
        "        \"precision\": precision_score(y_test, y_pred_logistic, average='macro'),\n",
        "        \"recall\": recall_score(y_test, y_pred_logistic, average='macro'),\n",
        "        \"f1\": f1_score(y_test, y_pred_logistic, average='macro')\n",
        "    },\n",
        "    \"Knn\":{\n",
        "        \"accuracy\": accuracy_score(y_test, y_pred_knn),\n",
        "        \"precision\": precision_score(y_test, y_pred_knn, average='macro'),\n",
        "        \"recall\": recall_score(y_test, y_pred_knn, average='macro'),\n",
        "        \"f1\": f1_score(y_test, y_pred_knn, average='macro')\n",
        "    },\n",
        "    \"Tree\":{\n",
        "        \"accuracy\": accuracy_score(y_test, y_pred_tree),\n",
        "        \"precision\": precision_score(y_test, y_pred_tree, average='macro'),\n",
        "        \"recall\": recall_score(y_test, y_pred_tree, average='macro'),\n",
        "        \"f1\": f1_score(y_test, y_pred_tree, average='macro')\n",
        "    },\n",
        "    \"Polynomial Kernel\":{\n",
        "        \"accuracy\": accuracy_score(y_test, y_pred_polynomial),\n",
        "        \"precision\": precision_score(y_test, y_pred_polynomial, average='macro'),\n",
        "        \"recall\": recall_score(y_test, y_pred_polynomial, average='macro'),\n",
        "        \"f1\": f1_score(y_test, y_pred_polynomial, average='macro')\n",
        "    },\n",
        "    \"Random forest\":{\n",
        "        \"accuracy\": accuracy_score(y_test, y_pred_random),\n",
        "        \"precision\": precision_score(y_test, y_pred_random, average='macro',zero_division=1),\n",
        "        \"recall\": recall_score(y_test, y_pred_random, average='macro'),\n",
        "        \"f1\": f1_score(y_test, y_pred_random, average='macro')\n",
        "    },\n",
        "    \"NaiveBayes\":{\n",
        "        \"accuracy\": accuracy_score(y_test, y_pred_bayes),\n",
        "        \"precision\": precision_score(y_test, y_pred_bayes, average='macro',zero_division=1),\n",
        "        \"recall\": recall_score(y_test, y_pred_bayes, average='macro'),\n",
        "        \"f1\": f1_score(y_test, y_pred_bayes, average='macro')\n",
        "    }\n",
        "}\n",
        "#print\n",
        "df_metrics = pd.DataFrame.from_dict(table, orient='index')\n",
        "print(df_metrics)"
      ],
      "metadata": {
        "id": "Rw_-8FIf2KxW",
        "colab": {
          "base_uri": "https://localhost:8080/"
        },
        "outputId": "d1d3a3fc-704d-496d-f617-0e3d99bf6186"
      },
      "execution_count": 93,
      "outputs": [
        {
          "output_type": "stream",
          "name": "stdout",
          "text": [
            "                   accuracy  precision    recall        f1\n",
            "Logistic           0.999228   0.931981  0.805071  0.857565\n",
            "Knn                0.999485   0.938355  0.893294  0.914600\n",
            "Tree               0.999380   0.930218  0.863877  0.894267\n",
            "Polynomial Kernel  0.999438   0.939456  0.874918  0.904621\n",
            "Random forest      0.999602   0.965949  0.904365  0.932971\n",
            "NaiveBayes         0.982889   0.537665  0.925360  0.565173\n"
          ]
        }
      ]
    },
    {
      "cell_type": "markdown",
      "source": [
        "#Finally,\n",
        "Save a copy in your Github. Remember renaming the notebook."
      ],
      "metadata": {
        "id": "Ok7RGkea_b7n"
      }
    }
  ]
}