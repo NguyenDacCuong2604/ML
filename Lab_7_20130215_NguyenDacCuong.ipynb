{
  "nbformat": 4,
  "nbformat_minor": 0,
  "metadata": {
    "colab": {
      "provenance": [],
      "include_colab_link": true
    },
    "kernelspec": {
      "name": "python3",
      "display_name": "Python 3"
    },
    "language_info": {
      "name": "python"
    }
  },
  "cells": [
    {
      "cell_type": "markdown",
      "metadata": {
        "id": "view-in-github",
        "colab_type": "text"
      },
      "source": [
        "<a href=\"https://colab.research.google.com/github/NguyenDacCuong2604/ML/blob/main/Lab_7_20130215_NguyenDacCuong.ipynb\" target=\"_parent\"><img src=\"https://colab.research.google.com/assets/colab-badge.svg\" alt=\"Open In Colab\"/></a>"
      ]
    },
    {
      "cell_type": "markdown",
      "source": [
        "# This lab deals with **cross validation** for some classification algorithms and **clustering methods**. \n",
        "\n",
        "*   **Deadline: 23:59, 10/4/2023**\n",
        "\n"
      ],
      "metadata": {
        "id": "LMzehe0sy5wr"
      }
    },
    {
      "cell_type": "markdown",
      "source": [
        "# Import libraries"
      ],
      "metadata": {
        "id": "H4nJmxp9zGX4"
      }
    },
    {
      "cell_type": "code",
      "execution_count": 2,
      "metadata": {
        "id": "DoVWQ8AEyc-C"
      },
      "outputs": [],
      "source": [
        "# code\n",
        "from sklearn import svm\n",
        "from sklearn import datasets\n",
        "from sklearn.model_selection import cross_validate\n",
        "from sklearn.model_selection import KFold\n",
        "from sklearn.model_selection import cross_val_score\n",
        "import pandas as pd\n",
        "import numpy as np"
      ]
    },
    {
      "cell_type": "markdown",
      "source": [
        "#Task 1. With **iris** dataset\n",
        "*  1.1. Apply **SVM** algorithm with cross validation\n"
      ],
      "metadata": {
        "id": "x_dG9SA5OhGT"
      }
    },
    {
      "cell_type": "code",
      "source": [
        "#code\n",
        "data = datasets.load_iris()\n",
        "clf = svm.SVC(kernel='sigmoid', random_state=0)\n",
        "scores = cross_validate(clf, data.data, data.target, scoring='accuracy', cv=10)\n",
        "print(sorted(scores.keys()))\n",
        "print(np.mean(scores['fit_time']))\n",
        "print(np.mean(scores['score_time']))\n",
        "print(np.mean(scores['test_score']))"
      ],
      "metadata": {
        "id": "62jExOZ952fF",
        "colab": {
          "base_uri": "https://localhost:8080/"
        },
        "outputId": "eac9667e-8286-4997-ea68-6acf690e6dbc"
      },
      "execution_count": 3,
      "outputs": [
        {
          "output_type": "stream",
          "name": "stdout",
          "text": [
            "['fit_time', 'score_time', 'test_score']\n",
            "0.016490936279296875\n",
            "0.0038657903671264647\n",
            "0.06666666666666668\n"
          ]
        }
      ]
    },
    {
      "cell_type": "markdown",
      "source": [
        "*  1.2 Apply **feature selection** to the dataset and then use **RandomForest** algorithm with cross validation "
      ],
      "metadata": {
        "id": "2g--8cng53sY"
      }
    },
    {
      "cell_type": "code",
      "source": [
        "from sklearn.preprocessing import StandardScaler\n",
        "from sklearn.model_selection import train_test_split\n",
        "from sklearn.ensemble import RandomForestClassifier\n",
        "from sklearn.metrics import accuracy_score, precision_score, recall_score, f1_score\n",
        "from sklearn.feature_selection import SelectKBest\n",
        "from sklearn.feature_selection import f_classif\n",
        "from sklearn.feature_selection import SelectFromModel"
      ],
      "metadata": {
        "id": "fZU3rf6CwPgY"
      },
      "execution_count": 4,
      "outputs": []
    },
    {
      "cell_type": "code",
      "source": [
        "#code\n",
        "data = datasets.load_iris()\n",
        "clf_randomforest=RandomForestClassifier(n_estimators=100)\n",
        "clf_randomforest.fit(data.data ,data.target)\n",
        "#importances\n",
        "importances = clf_randomforest.feature_importances_\n",
        "#sort\n",
        "sorted_idx = np.argsort(importances)[::-1]\n",
        "#print rank\n",
        "for idx in sorted_idx:\n",
        "    print(f\"{importances[idx]}\")"
      ],
      "metadata": {
        "id": "fX0_kItYPism",
        "colab": {
          "base_uri": "https://localhost:8080/"
        },
        "outputId": "7adaf605-9da1-4cd9-efb3-cfb2ccdf6c9a"
      },
      "execution_count": 5,
      "outputs": [
        {
          "output_type": "stream",
          "name": "stdout",
          "text": [
            "0.48697458337139216\n",
            "0.3698891929541336\n",
            "0.11809875237907907\n",
            "0.025037471295395197\n"
          ]
        }
      ]
    },
    {
      "cell_type": "code",
      "source": [
        "data = datasets.load_iris()\n",
        "sfm = SelectFromModel(clf_randomforest, threshold=0.1)\n",
        "X = sfm.fit_transform(data.data, data.target)"
      ],
      "metadata": {
        "id": "MHkL4T1pxV5x"
      },
      "execution_count": 6,
      "outputs": []
    },
    {
      "cell_type": "code",
      "source": [
        "cv = KFold(n_splits=10, random_state=1, shuffle=True)\n",
        "clf_randomforest=RandomForestClassifier(n_estimators=100)\n",
        "scores = cross_val_score(clf_randomforest, X, data.target, scoring='accuracy', cv=cv)\n",
        "print(scores.mean())\n"
      ],
      "metadata": {
        "colab": {
          "base_uri": "https://localhost:8080/"
        },
        "id": "p1WISNkjxrFQ",
        "outputId": "f23662d5-450d-4c65-d8e3-0062b69f5955"
      },
      "execution_count": 7,
      "outputs": [
        {
          "output_type": "stream",
          "name": "stdout",
          "text": [
            "0.96\n"
          ]
        }
      ]
    },
    {
      "cell_type": "markdown",
      "source": [
        "#Task 2. With mnist dataset: \n",
        "*   2.1. Apply **K-Means** algorithm using k=10, "
      ],
      "metadata": {
        "id": "kNv07ARGzOUm"
      }
    },
    {
      "cell_type": "code",
      "source": [
        "# importing libraries\n",
        "from sklearn.cluster import KMeans\n",
        "from sklearn import datasets"
      ],
      "metadata": {
        "id": "TwUPImMs0NgI"
      },
      "execution_count": 8,
      "outputs": []
    },
    {
      "cell_type": "markdown",
      "source": [],
      "metadata": {
        "id": "BPdIKQzhDgmX"
      }
    },
    {
      "cell_type": "code",
      "source": [
        "# code\n",
        "mnist = datasets.load_digits()"
      ],
      "metadata": {
        "id": "sOsg77IBzEyo"
      },
      "execution_count": 9,
      "outputs": []
    },
    {
      "cell_type": "code",
      "source": [
        "kmeans = KMeans(n_clusters=10, init='k-means++', n_init=10, random_state = 0)\n",
        "kmeans.fit(mnist.data)\n",
        "clusters = kmeans.predict(mnist.data)\n",
        "scores = cross_val_score(kmeans, mnist.data, mnist.target, cv=5, scoring='accuracy')\n",
        "print(\"K-means clustering accuracy:\", scores.mean())\n",
        "\n",
        "# Compute precision, recall, and f1 scores\n",
        "precision = precision_score(mnist.target, clusters, average='weighted', zero_division=1)\n",
        "recall = recall_score(mnist.target, clusters, average='weighted')\n",
        "f1 = f1_score(mnist.target, clusters, average='weighted')\n",
        "\n",
        "print(\"K-means clustering precision:\", precision)\n",
        "print(\"K-means clustering recall:\", recall)\n",
        "print(\"K-means clustering f1-score:\", f1)"
      ],
      "metadata": {
        "colab": {
          "base_uri": "https://localhost:8080/"
        },
        "id": "TgW3vGo60Y-w",
        "outputId": "d61c48fa-7cf7-497c-bc36-8d3a8fdd3706"
      },
      "execution_count": 10,
      "outputs": [
        {
          "output_type": "stream",
          "name": "stdout",
          "text": [
            "K-means clustering accuracy: 0.07512999071494894\n",
            "K-means clustering precision: 0.013558735694097473\n",
            "K-means clustering recall: 0.015581524763494713\n",
            "K-means clustering f1-score: 0.014297035101996054\n"
          ]
        }
      ]
    },
    {
      "cell_type": "code",
      "source": [
        "from scipy.stats import mode\n",
        "from sklearn.metrics import accuracy_score"
      ],
      "metadata": {
        "id": "Obgkk2Er2Kyo"
      },
      "execution_count": 11,
      "outputs": []
    },
    {
      "cell_type": "code",
      "source": [
        "labels = np.zeros_like(clusters)\n",
        "for i in range(10):\n",
        " mask = (clusters == i)\n",
        "#  print(mask)\n",
        " labels[mask] = mode(mnist.target[mask])[0]\n",
        "#  print(labels[mask])\n",
        "accuracy_score(mnist.target, labels)"
      ],
      "metadata": {
        "colab": {
          "base_uri": "https://localhost:8080/"
        },
        "id": "aq9d9Cgn2U5n",
        "outputId": "34feac48-1bb9-4c08-ab85-ac2ce039f3b9"
      },
      "execution_count": 14,
      "outputs": [
        {
          "output_type": "stream",
          "name": "stderr",
          "text": [
            "<ipython-input-14-4288e68b96b5>:5: FutureWarning: Unlike other reduction functions (e.g. `skew`, `kurtosis`), the default behavior of `mode` typically preserves the axis it acts along. In SciPy 1.11.0, this behavior will change: the default value of `keepdims` will become False, the `axis` over which the statistic is taken will be eliminated, and the value None will no longer be accepted. Set `keepdims` to True or False to avoid this warning.\n",
            "  labels[mask] = mode(mnist.target[mask])[0]\n"
          ]
        },
        {
          "output_type": "execute_result",
          "data": {
            "text/plain": [
              "0.7935447968836951"
            ]
          },
          "metadata": {},
          "execution_count": 14
        }
      ]
    },
    {
      "cell_type": "markdown",
      "source": [
        "*   2.2. Compare the obtained result with with other classification algorithms such as **Randomforest**, **kNN**, and **Naïve Bayes** in terms of accuracy, precision, recall, f1 using cross validation. \n"
      ],
      "metadata": {
        "id": "pnoVB8J4vV36"
      }
    },
    {
      "cell_type": "code",
      "source": [
        "X = mnist.data\n",
        "y = mnist.target\n",
        "#Chuan hoa du lieu\n",
        "scaler = StandardScaler()\n",
        "X_scaled = scaler.fit_transform(X)\n",
        "# Split 7-3\n",
        "X_train, X_test, y_train, y_test = train_test_split(X_scaled, y, test_size=0.3, random_state=42)"
      ],
      "metadata": {
        "id": "sCXJHX42Fm5g"
      },
      "execution_count": 15,
      "outputs": []
    },
    {
      "cell_type": "code",
      "source": [
        "# code\n",
        "#randomforest\n",
        "from sklearn.ensemble import RandomForestClassifier\n",
        "rf_clf = RandomForestClassifier(random_state=42)\n",
        "rf_clf.fit(X_train, y_train)\n",
        "rf_preds = rf_clf.predict(X_test)\n",
        "#knn\n",
        "from sklearn.neighbors import KNeighborsClassifier\n",
        "knn_clf = KNeighborsClassifier()\n",
        "knn_clf.fit(X_train, y_train)\n",
        "knn_preds = knn_clf.predict(X_test)\n",
        "#naive bayes\n",
        "from sklearn.naive_bayes import GaussianNB\n",
        "nb_clf = GaussianNB()\n",
        "nb_clf.fit(X_train, y_train)\n",
        "nb_preds = nb_clf.predict(X_test)"
      ],
      "metadata": {
        "id": "-ZTSvsJdvYqI"
      },
      "execution_count": 21,
      "outputs": []
    },
    {
      "cell_type": "code",
      "source": [
        "from sklearn.metrics import make_scorer\n",
        "# Define a function to evaluate the models\n",
        "def evaluate_model(clf, X, y):\n",
        "    accuracy = cross_val_score(clf, X, y, cv=5, scoring='accuracy')\n",
        "    scorer = make_scorer(precision_score, average='macro', zero_division=1)\n",
        "    precision = cross_val_score(clf, X, y, cv=5, scoring=scorer)\n",
        "    recall = cross_val_score(clf, X, y, cv=5, scoring='recall_macro')\n",
        "    f1 = cross_val_score(clf, X, y, cv=5, scoring='f1_macro')\n",
        "    return accuracy.mean(), precision.mean(), recall.mean(), f1.mean()\n",
        "\n",
        "# Evaluate K-Means\n",
        "kmeans_accuracy, kmeans_precision, kmeans_recall, kmeans_f1 = evaluate_model(kmeans, X_train, y_train)\n",
        "\n",
        "# Evaluate Random Forest\n",
        "rf_accuracy, rf_precision, rf_recall, rf_f1 = evaluate_model(rf_clf, X_train, y_train)\n",
        "\n",
        "# Evaluate kNN\n",
        "knn_accuracy, knn_precision, knn_recall, knn_f1 = evaluate_model(knn_clf, X_train, y_train)\n",
        "\n",
        "# Evaluate Naïve Bayes\n",
        "nb_accuracy, nb_precision, nb_recall, nb_f1 = evaluate_model(nb_clf, X_train, y_train)\n",
        "# Print the results\n",
        "print(\"K-Means Accuracy: {:.2f}\".format(kmeans_accuracy))\n",
        "print(\"K-Means Precision: {:.2f}\".format(kmeans_precision))\n",
        "print(\"K-Means Recall: {:.2f}\".format(kmeans_recall))\n",
        "print(\"K-Means F1 Score: {:.2f}\".format(kmeans_f1))\n",
        "\n",
        "print(\"Random Forest Accuracy: {:.2f}\".format(rf_accuracy))\n",
        "print(\"Random Forest Precision: {:.2f}\".format(rf_precision))\n",
        "print(\"Random Forest Recall: {:.2f}\".format(rf_recall))\n",
        "print(\"Random Forest F1 Score: {:.2f}\".format(rf_f1))\n",
        "\n",
        "print(\"k-Nearest Neighbors Accuracy: {:.2f}\".format(knn_accuracy))\n",
        "print(\"k-Nearest Neighbors Precision: {:.2f}\".format(knn_precision))\n",
        "print(\"k-Nearest Neighbors Recall: {:.2f}\".format(knn_recall))\n",
        "print(\"k-Nearest Neighbors F1 Score: {:.2f}\".format(knn_f1))\n",
        "\n",
        "print(\"Naïve Bayes Accuracy: {:.2f}\".format(nb_accuracy))\n",
        "print(\"Naïve Bayes Precision: {:.2f}\".format(nb_precision))\n",
        "print(\"Naïve Bayes Recall: {:.2f}\".format(nb_recall))\n",
        "print(\"Naïve Bayes F1 Score: {:.2f}\".format(nb_f1))"
      ],
      "metadata": {
        "colab": {
          "base_uri": "https://localhost:8080/"
        },
        "id": "-uufYicxGS4_",
        "outputId": "32106dd5-8924-4e49-c0a5-616e82fd6aee"
      },
      "execution_count": 23,
      "outputs": [
        {
          "output_type": "stream",
          "name": "stdout",
          "text": [
            "K-Means Accuracy: 0.06\n",
            "K-Means Precision: 0.23\n",
            "K-Means Recall: 0.05\n",
            "K-Means F1 Score: 0.04\n",
            "Random Forest Accuracy: 0.97\n",
            "Random Forest Precision: 0.97\n",
            "Random Forest Recall: 0.97\n",
            "Random Forest F1 Score: 0.97\n",
            "k-Nearest Neighbors Accuracy: 0.97\n",
            "k-Nearest Neighbors Precision: 0.97\n",
            "k-Nearest Neighbors Recall: 0.97\n",
            "k-Nearest Neighbors F1 Score: 0.97\n",
            "Naïve Bayes Accuracy: 0.77\n",
            "Naïve Bayes Precision: 0.84\n",
            "Naïve Bayes Recall: 0.77\n",
            "Naïve Bayes F1 Score: 0.77\n"
          ]
        }
      ]
    },
    {
      "cell_type": "markdown",
      "source": [
        "*   2.3. From the obtained results, **which approach is better** for this problem: Supervised learning or Unsupervised learning?"
      ],
      "metadata": {
        "id": "uyey-ndXvZlb"
      }
    },
    {
      "cell_type": "code",
      "source": [
        "#code\n",
        "print(\"Supervised learning\")"
      ],
      "metadata": {
        "id": "Qzh_D-rgvbv9",
        "colab": {
          "base_uri": "https://localhost:8080/"
        },
        "outputId": "a7d4532a-83a7-48be-f432-1f3098daca76"
      },
      "execution_count": 24,
      "outputs": [
        {
          "output_type": "stream",
          "name": "stdout",
          "text": [
            "Supervised learning\n"
          ]
        }
      ]
    },
    {
      "cell_type": "markdown",
      "source": [
        "2.4. Apply **AgglomerativeClustering** algorithm to mnist dataset using the number of clusters is 10"
      ],
      "metadata": {
        "id": "ol1U_T_NvcqV"
      }
    },
    {
      "cell_type": "code",
      "source": [
        "mnist = datasets.load_digits()\n",
        "from sklearn.cluster import AgglomerativeClustering\n",
        "cluster = AgglomerativeClustering(n_clusters=10, memory=None,connectivity=None, compute_full_tree='auto', linkage='ward', distance_threshold=None,compute_distances=False)\n",
        "cluster.fit_predict(mnist.data)\n",
        "# get clustering labels\n",
        "cluster.labels_"
      ],
      "metadata": {
        "colab": {
          "base_uri": "https://localhost:8080/"
        },
        "id": "1pWBOVOwIqmU",
        "outputId": "9d259a52-fd9d-463e-df51-03f59806d13d"
      },
      "execution_count": 27,
      "outputs": [
        {
          "output_type": "execute_result",
          "data": {
            "text/plain": [
              "array([7, 9, 4, ..., 4, 1, 4])"
            ]
          },
          "metadata": {},
          "execution_count": 27
        }
      ]
    },
    {
      "cell_type": "code",
      "source": [
        "from matplotlib import pyplot as plt\n",
        "from sklearn.datasets import load_iris\n",
        "from scipy.cluster.hierarchy import dendrogram, linkage\n",
        "import scipy.cluster.hierarchy as shc\n",
        "plt.figure(figsize=(10, 7))\n",
        "plt.title(\"Customer Dendograms\")\n",
        "dend = shc.dendrogram(shc.linkage(mnist.data, method='ward'))"
      ],
      "metadata": {
        "colab": {
          "base_uri": "https://localhost:8080/",
          "height": 626
        },
        "id": "XuIpJfrdJESB",
        "outputId": "d5ebcf92-7ab0-42cd-9a23-be1706da0a8a"
      },
      "execution_count": 29,
      "outputs": [
        {
          "output_type": "display_data",
          "data": {
            "text/plain": [
              "<Figure size 1000x700 with 1 Axes>"
            ],
            "image/png": "[encoded data removed]"
          },
          "metadata": {}
        }
      ]
    },
    {
      "cell_type": "markdown",
      "source": [
        "#Task 3. \n",
        "For given dataset (shopping-data.csv) including 5 attributes: **CustomerID**, **Genre**, **Age**, **Annual Income**, and **Spending Score**.\n",
        "*   3.1. Using the **scipy library** to create the dendrograms for the given dataset (remember drop categorical attributes: **CustomerID**, **Genre**)\n",
        "\n",
        "\n",
        "\n"
      ],
      "metadata": {
        "id": "b52OPWPD2afi"
      }
    },
    {
      "cell_type": "code",
      "source": [
        "#code\n",
        "from google.colab import drive\n",
        "drive.mount('/content/gdrive')\n",
        "%cd '/content/gdrive/MyDrive/ML'"
      ],
      "metadata": {
        "id": "YYY2dLtH3P8H",
        "colab": {
          "base_uri": "https://localhost:8080/"
        },
        "outputId": "a43765d0-fd6c-45db-925d-8d36bb558c9d"
      },
      "execution_count": 30,
      "outputs": [
        {
          "output_type": "stream",
          "name": "stdout",
          "text": [
            "Mounted at /content/gdrive\n",
            "/content/gdrive/MyDrive/ML\n"
          ]
        }
      ]
    },
    {
      "cell_type": "code",
      "source": [
        "dataSet = pd.read_csv(\"shopping-data.csv\")\n",
        "print(dataSet.head())"
      ],
      "metadata": {
        "colab": {
          "base_uri": "https://localhost:8080/"
        },
        "id": "DZbbFrfe3X9o",
        "outputId": "b0995176-e55a-4c02-ee51-8508342677c3"
      },
      "execution_count": 31,
      "outputs": [
        {
          "output_type": "stream",
          "name": "stdout",
          "text": [
            "   CustomerID   Genre  Age  Annual Income (k$)  Spending Score (1-100)\n",
            "0           1    Male   19                  15                      39\n",
            "1           2    Male   21                  15                      81\n",
            "2           3  Female   20                  16                       6\n",
            "3           4  Female   23                  16                      77\n",
            "4           5  Female   31                  17                      40\n"
          ]
        }
      ]
    },
    {
      "cell_type": "code",
      "source": [
        "dataSet = dataSet.drop('CustomerID', axis=1)\n",
        "dataSet = dataSet.drop('Genre', axis=1)\n",
        "print(dataSet.head())"
      ],
      "metadata": {
        "colab": {
          "base_uri": "https://localhost:8080/"
        },
        "id": "OchcefkY3jp3",
        "outputId": "7880a760-c769-4e7a-dad5-f4631ee71c3c"
      },
      "execution_count": 32,
      "outputs": [
        {
          "output_type": "stream",
          "name": "stdout",
          "text": [
            "   Age  Annual Income (k$)  Spending Score (1-100)\n",
            "0   19                  15                      39\n",
            "1   21                  15                      81\n",
            "2   20                  16                       6\n",
            "3   23                  16                      77\n",
            "4   31                  17                      40\n"
          ]
        }
      ]
    },
    {
      "cell_type": "code",
      "source": [
        "kmeans = KMeans(n_clusters=8, init='k-means++', n_init=10, random_state = 0)\n",
        "kmeans.fit(dataSet)\n",
        "clusters = kmeans.predict(dataSet)\n",
        "kmeans.cluster_centers_.shape"
      ],
      "metadata": {
        "colab": {
          "base_uri": "https://localhost:8080/"
        },
        "id": "DN7d5B7_4wbZ",
        "outputId": "0ac4df2d-56a0-48a0-ab72-23aeb74c17c9"
      },
      "execution_count": 33,
      "outputs": [
        {
          "output_type": "execute_result",
          "data": {
            "text/plain": [
              "(8, 3)"
            ]
          },
          "metadata": {},
          "execution_count": 33
        }
      ]
    },
    {
      "cell_type": "code",
      "source": [
        "import matplotlib.pyplot as plt"
      ],
      "metadata": {
        "id": "TqCFfqiF8ylv"
      },
      "execution_count": 34,
      "outputs": []
    },
    {
      "cell_type": "markdown",
      "source": [
        "*   3.2. Apply K-Means to the preprocessed dataset with k belongs to [2,10]. Then compute SSE values and plot them to find the best value of k."
      ],
      "metadata": {
        "id": "eHlh_dWUyEMr"
      }
    },
    {
      "cell_type": "code",
      "source": [
        "from scipy.spatial.distance import cdist\n",
        "scaler = StandardScaler()\n",
        "scaled_features = scaler.fit_transform(dataSet)\n",
        "#code\n",
        "sse = []\n",
        "for k in range(2, 10):\n",
        " kmeans = KMeans(n_clusters=k, init='k-means++', n_init=10, max_iter=300, tol=0.0001, verbose=0, random_state=None, copy_x=True, algorithm='lloyd')\n",
        " kmeans.fit(scaled_features)\n",
        " # 2.1. Khoảng cách tới toàn bộ centroids\n",
        " d2centroids = cdist(scaled_features, kmeans.cluster_centers_, 'euclidean') # shape (n, k)\n",
        " # 2.2. Khoảng cách tới centroid gần nhất\n",
        " min_distance = np.min(d2centroids, axis=1) # shape (n)\n",
        " loss = np.sum(min_distance)\n",
        " sse.append(loss)\n",
        "plt.figure(figsize=(12, 8))\n",
        "plt.plot(np.arange(2, 10), sse, 'bx-')\n",
        "plt.xlabel('Values of K')\n",
        "plt.ylabel('Distortion')\n",
        "plt.title('The Elbow Method using Distortion')\n",
        "plt.show()"
      ],
      "metadata": {
        "id": "8vx3mfIidu4P",
        "colab": {
          "base_uri": "https://localhost:8080/",
          "height": 718
        },
        "outputId": "476947c5-1784-423f-e725-d251ea833a32"
      },
      "execution_count": 35,
      "outputs": [
        {
          "output_type": "display_data",
          "data": {
            "text/plain": [
              "<Figure size 1200x800 with 1 Axes>"
            ],
            "image/png": "[encoded data removed]"
          },
          "metadata": {}
        }
      ]
    },
    {
      "cell_type": "code",
      "source": [
        "#Điểm khuỷ tay là điểm mà ở đó tốc độ suy giảm của hàm biến dạng sẽ thay đổi nhiều nhất.\n",
        "#Sử dụng Elbow để tính k cụm, giá trị best k là điểm khuỷa tay.\n",
        "print(\"best K là 4\")"
      ],
      "metadata": {
        "colab": {
          "base_uri": "https://localhost:8080/"
        },
        "id": "acYdXd_MI9h3",
        "outputId": "84375b2b-f8a3-4a78-9b1b-06ad5d586b47"
      },
      "execution_count": 36,
      "outputs": [
        {
          "output_type": "stream",
          "name": "stdout",
          "text": [
            "best K là 4\n"
          ]
        }
      ]
    },
    {
      "cell_type": "markdown",
      "source": [
        "*   3.2. From the obtained dengrograms, choose an appropriate number of clusters and apply **AgglomerativeClustering** algorithm to the given dataset"
      ],
      "metadata": {
        "id": "RJpsTIiyv-1h"
      }
    },
    {
      "cell_type": "code",
      "source": [
        "#code\n",
        "from sklearn.cluster import AgglomerativeClustering\n",
        "cluster = AgglomerativeClustering(n_clusters=4, memory=None,connectivity=None, compute_full_tree='auto', linkage='ward', distance_threshold=None,compute_distances=False)\n",
        "cluster.fit_predict(scaled_features)\n",
        "# get clustering labels\n",
        "cluster.labels_\n",
        "\n"
      ],
      "metadata": {
        "id": "5ZE7A0Au1Pg0",
        "colab": {
          "base_uri": "https://localhost:8080/"
        },
        "outputId": "51b9fa0c-df98-4703-8558-7a672bd6126e"
      },
      "execution_count": 37,
      "outputs": [
        {
          "output_type": "execute_result",
          "data": {
            "text/plain": [
              "array([0, 1, 0, 1, 0, 1, 0, 1, 0, 1, 0, 1, 0, 1, 0, 1, 0, 1, 0, 1, 0, 1,\n",
              "       0, 1, 0, 1, 0, 1, 0, 1, 0, 1, 0, 1, 0, 1, 0, 1, 0, 1, 0, 1, 0, 1,\n",
              "       0, 1, 0, 1, 1, 1, 0, 1, 1, 0, 0, 0, 0, 0, 1, 0, 0, 1, 0, 0, 0, 1,\n",
              "       1, 0, 1, 1, 0, 0, 0, 0, 0, 1, 1, 1, 1, 0, 0, 1, 0, 0, 1, 0, 0, 1,\n",
              "       1, 0, 0, 1, 0, 1, 1, 1, 0, 1, 0, 1, 1, 0, 0, 1, 0, 1, 0, 0, 0, 0,\n",
              "       0, 1, 1, 1, 1, 1, 0, 0, 0, 0, 1, 1, 1, 2, 1, 2, 0, 2, 3, 2, 3, 2,\n",
              "       1, 2, 1, 2, 3, 2, 1, 2, 3, 2, 1, 2, 1, 2, 0, 2, 3, 2, 3, 2, 3, 2,\n",
              "       3, 2, 3, 2, 3, 2, 0, 2, 1, 2, 3, 2, 3, 2, 3, 2, 3, 2, 3, 2, 3, 2,\n",
              "       3, 2, 3, 2, 3, 2, 3, 2, 3, 2, 3, 2, 3, 2, 3, 2, 3, 2, 3, 2, 3, 2,\n",
              "       3, 2])"
            ]
          },
          "metadata": {},
          "execution_count": 37
        }
      ]
    },
    {
      "cell_type": "code",
      "source": [
        "from matplotlib import pyplot as plt\n",
        "from sklearn.datasets import load_iris\n",
        "from scipy.cluster.hierarchy import dendrogram, linkage\n",
        "import scipy.cluster.hierarchy as shc\n",
        "plt.figure(figsize=(10, 7))\n",
        "plt.title(\"Customer Dendograms\")\n",
        "dend = shc.dendrogram(shc.linkage(scaled_features, method='ward'))"
      ],
      "metadata": {
        "colab": {
          "base_uri": "https://localhost:8080/",
          "height": 621
        },
        "id": "7-qZBqs5Sfry",
        "outputId": "310447d7-2179-4a4f-adbb-ea8a124554a0"
      },
      "execution_count": 38,
      "outputs": [
        {
          "output_type": "display_data",
          "data": {
            "text/plain": [
              "<Figure size 1000x700 with 1 Axes>"
            ],
            "image/png": "[encoded data removed]"
          },
          "metadata": {}
        }
      ]
    },
    {
      "cell_type": "markdown",
      "source": [
        "#Finally,\n",
        "Save a copy in your Github. Remember renaming the notebook."
      ],
      "metadata": {
        "id": "Ok7RGkea_b7n"
      }
    }
  ]
}