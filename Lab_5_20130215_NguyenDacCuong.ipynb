{
  "nbformat": 4,
  "nbformat_minor": 0,
  "metadata": {
    "colab": {
      "provenance": [],
      "include_colab_link": true
    },
    "kernelspec": {
      "name": "python3",
      "display_name": "Python 3"
    },
    "language_info": {
      "name": "python"
    }
  },
  "cells": [
    {
      "cell_type": "markdown",
      "metadata": {
        "id": "view-in-github",
        "colab_type": "text"
      },
      "source": [
        "<a href=\"https://colab.research.google.com/github/NguyenDacCuong2604/ML/blob/main/Lab_5_20130215_NguyenDacCuong.ipynb\" target=\"_parent\"><img src=\"https://colab.research.google.com/assets/colab-badge.svg\" alt=\"Open In Colab\"/></a>"
      ]
    },
    {
      "cell_type": "markdown",
      "source": [
        "# This lab is to deal with **SVM** to classification tasks and compare its performance with other competitive algorithms. In general, **SVM** is one of the most popular and widely used supervised machine learning algorithms.\n",
        "\n",
        "*   **Deadline: 23:59, 17/03/2023**\n",
        "\n"
      ],
      "metadata": {
        "id": "LMzehe0sy5wr"
      }
    },
    {
      "cell_type": "markdown",
      "source": [
        "# Import libraries"
      ],
      "metadata": {
        "id": "H4nJmxp9zGX4"
      }
    },
    {
      "cell_type": "code",
      "execution_count": 1,
      "metadata": {
        "id": "DoVWQ8AEyc-C"
      },
      "outputs": [],
      "source": [
        "# code\n",
        "# import librari of svm\n",
        "from sklearn import svm\n"
      ]
    },
    {
      "cell_type": "markdown",
      "source": [
        "#Task 1. \n",
        "For breast cancer dataset (https://tinyurl.com/3vme8hr3) which could be loaded from datasets in sklearn as follows:\n",
        "\n",
        "```\n",
        "#Import scikit-learn dataset library\n",
        "from sklearn import datasets\n",
        "\n",
        "#Load dataset\n",
        "cancer = datasets.load_breast_cancer()\n",
        "```\n",
        "\n",
        "*   1.1.\tApply SVM algorithm to above dataset using linear kernel.\n",
        "*   1.2.\tCompare the obtained results with other competitive algorithms (Logistic Regression, Decision Tree, kNN) based on metrics: accuracy, precision, recall, f1 measures.\n",
        "\n"
      ],
      "metadata": {
        "id": "kNv07ARGzOUm"
      }
    },
    {
      "cell_type": "code",
      "source": [
        "#import\n",
        "from sklearn import datasets\n",
        "from sklearn.preprocessing import StandardScaler\n",
        "from sklearn.model_selection import train_test_split\n",
        "from sklearn.linear_model import LogisticRegression\n",
        "from sklearn.neighbors import KNeighborsClassifier\n",
        "from sklearn.tree import DecisionTreeClassifier\n",
        "from sklearn.metrics import accuracy_score, precision_score, recall_score, f1_score\n",
        "import pandas as pd"
      ],
      "metadata": {
        "id": "FR3cFYihk3ym"
      },
      "execution_count": 2,
      "outputs": []
    },
    {
      "cell_type": "code",
      "source": [
        "# code\n",
        "# Load dataset\n",
        "cancer = datasets.load_breast_cancer()\n",
        "X = cancer.data\n",
        "y = cancer.target\n",
        "#Chuan hoa du lieu\n",
        "scaler = StandardScaler()\n",
        "X_scaled = scaler.fit_transform(X)\n",
        "#Split 7-3\n",
        "X_train, X_test, y_train, y_test = train_test_split(X_scaled, y, test_size=0.3, random_state=1)\n",
        "#SVM\n",
        "clf = svm.SVC(kernel='linear')\n",
        "clf.fit(X_train, y_train)\n",
        "y_pred_SVM = clf.predict(X_test)\n",
        "#Logistic Regression\n",
        "logistic = LogisticRegression(random_state=1)\n",
        "logistic.fit(X_train, y_train)\n",
        "y_pred_logistic = logistic.predict(X_test)\n",
        "#Knn Regression\n",
        "knn = KNeighborsClassifier(n_neighbors=5)\n",
        "knn.fit(X_train, y_train)\n",
        "y_pred_knn = knn.predict(X_test)\n",
        "#Decision Tree\n",
        "tree = DecisionTreeClassifier(criterion=\"gini\", random_state=42, max_depth=3, min_samples_leaf=5)\n",
        "tree.fit(X_train, y_train)\n",
        "y_pred_tree = tree.predict(X_test)\n",
        "#Create table\n",
        "table = {\n",
        "    \"SVM\":{\n",
        "        \"accuracy\": accuracy_score(y_test, y_pred_SVM),\n",
        "        \"precision\": precision_score(y_test, y_pred_SVM, average='macro'),\n",
        "        \"recall\": recall_score(y_test, y_pred_SVM, average='macro'),\n",
        "        \"f1\": f1_score(y_test, y_pred_SVM, average='macro')\n",
        "    },\n",
        "    \"Logistic\":{\n",
        "        \"accuracy\": accuracy_score(y_test, y_pred_logistic),\n",
        "        \"precision\": precision_score(y_test, y_pred_logistic, average='macro'),\n",
        "        \"recall\": recall_score(y_test, y_pred_logistic, average='macro'),\n",
        "        \"f1\": f1_score(y_test, y_pred_logistic, average='macro')\n",
        "    },\n",
        "    \"Knn\":{\n",
        "        \"accuracy\": accuracy_score(y_test, y_pred_knn),\n",
        "        \"precision\": precision_score(y_test, y_pred_knn, average='macro'),\n",
        "        \"recall\": recall_score(y_test, y_pred_knn, average='macro'),\n",
        "        \"f1\": f1_score(y_test, y_pred_knn, average='macro')\n",
        "    },\n",
        "    \"Tree\":{\n",
        "        \"accuracy\": accuracy_score(y_test, y_pred_tree),\n",
        "        \"precision\": precision_score(y_test, y_pred_tree, average='macro'),\n",
        "        \"recall\": recall_score(y_test, y_pred_tree, average='macro'),\n",
        "        \"f1\": f1_score(y_test, y_pred_tree, average='macro')\n",
        "    },\n",
        "}\n",
        "#print\n",
        "df_metrics = pd.DataFrame.from_dict(table, orient='index')\n",
        "print(df_metrics)"
      ],
      "metadata": {
        "id": "sOsg77IBzEyo",
        "colab": {
          "base_uri": "https://localhost:8080/"
        },
        "outputId": "86cfc405-3d1a-4340-d313-2571d4f60a74"
      },
      "execution_count": 3,
      "outputs": [
        {
          "output_type": "stream",
          "name": "stdout",
          "text": [
            "          accuracy  precision    recall        f1\n",
            "SVM       0.953216   0.947388  0.953042  0.950058\n",
            "Logistic  0.970760   0.967217  0.970238  0.968687\n",
            "Knn       0.953216   0.956265  0.943122  0.949031\n",
            "Tree      0.912281   0.903247  0.910714  0.906649\n"
          ]
        }
      ]
    },
    {
      "cell_type": "markdown",
      "source": [
        "#Task 2. \n",
        "\n",
        "*   1.1.\tPerform SVM algorithm to **Iris dataset** using **linear kernel**.\n",
        "*   1.2.\tCompare the obtained results in 1.1 with SVM using other kernels (**Polynomial Kernel, Gaussian Kernel, Sigmoid Kernel, Radial Basis Function Kernel**). Some metrics could be used: accuracy, precision, recall, f1 measures\n",
        "\n",
        "\n",
        "\n"
      ],
      "metadata": {
        "id": "S43IoUT-0OQq"
      }
    },
    {
      "cell_type": "code",
      "source": [
        "# import\n",
        "from sklearn import datasets"
      ],
      "metadata": {
        "id": "KuNoQJ4KtdXD"
      },
      "execution_count": 5,
      "outputs": []
    },
    {
      "cell_type": "code",
      "source": [
        "# code\n",
        "data = datasets.load_iris()\n",
        "X = data.data\n",
        "y = data.target\n",
        "#Chuan hoa du lieu\n",
        "scaler = StandardScaler()\n",
        "X_scaled = scaler.fit_transform(X)\n",
        "#Split 7-3\n",
        "X_train, X_test, y_train, y_test = train_test_split(X_scaled, y, test_size=0.3, random_state=1)\n",
        "#Linear Kernel\n",
        "clf = svm.SVC(kernel='linear')\n",
        "clf.fit(X_train, y_train)\n",
        "y_pred_linear = clf.predict(X_test)\n",
        "#Polynomial Kernel\n",
        "clf = svm.SVC(kernel='poly')\n",
        "clf.fit(X_train, y_train)\n",
        "y_pred_polynomial = clf.predict(X_test)\n",
        "#Gaussian Kernel\n",
        "# clf = svm.SVC(kernel='')\n",
        "# clf.fit(X_train, y_train)\n",
        "# y_pred_gaussian = clf.predict(X_test)\n",
        "#Sigmoid Kernel\n",
        "clf = svm.SVC(kernel='sigmoid')\n",
        "clf.fit(X_train, y_train)\n",
        "y_pred_sigmoid = clf.predict(X_test)\n",
        "#Radial Basis\n",
        "clf = svm.SVC(kernel='rbf')\n",
        "clf.fit(X_train, y_train)\n",
        "y_pred_radial = clf.predict(X_test)\n",
        "#Create table\n",
        "table = {\n",
        "    \"Liner Kernel\":{\n",
        "        \"accuracy\": accuracy_score(y_test, y_pred_linear),\n",
        "        \"precision\": precision_score(y_test, y_pred_linear, average='macro'),\n",
        "        \"recall\": recall_score(y_test, y_pred_linear, average='macro'),\n",
        "        \"f1\": f1_score(y_test, y_pred_linear, average='macro')\n",
        "    },\n",
        "    \"Polynomial Kernel\":{\n",
        "        \"accuracy\": accuracy_score(y_test, y_pred_polynomial),\n",
        "        \"precision\": precision_score(y_test, y_pred_polynomial, average='macro'),\n",
        "        \"recall\": recall_score(y_test, y_pred_polynomial, average='macro'),\n",
        "        \"f1\": f1_score(y_test, y_pred_polynomial, average='macro')\n",
        "    },\n",
        "    \"Sigmoid Kernel\":{\n",
        "        \"accuracy\": accuracy_score(y_test, y_pred_sigmoid),\n",
        "        \"precision\": precision_score(y_test, y_pred_sigmoid, average='macro'),\n",
        "        \"recall\": recall_score(y_test, y_pred_sigmoid, average='macro'),\n",
        "        \"f1\": f1_score(y_test, y_pred_sigmoid, average='macro')\n",
        "    },\n",
        "    \"Radial Basis\":{\n",
        "        \"accuracy\": accuracy_score(y_test, y_pred_radial),\n",
        "        \"precision\": precision_score(y_test, y_pred_radial, average='macro'),\n",
        "        \"recall\": recall_score(y_test, y_pred_radial, average='macro'),\n",
        "        \"f1\": f1_score(y_test, y_pred_radial, average='macro')\n",
        "    },\n",
        "}\n",
        "#print\n",
        "df_metrics = pd.DataFrame.from_dict(table, orient='index')\n",
        "print(df_metrics)"
      ],
      "metadata": {
        "id": "_xhPpF5b033h",
        "colab": {
          "base_uri": "https://localhost:8080/"
        },
        "outputId": "c44a21c1-a316-4bb3-8f1d-b3e411467b0e"
      },
      "execution_count": 4,
      "outputs": [
        {
          "output_type": "stream",
          "name": "stdout",
          "text": [
            "                   accuracy  precision    recall        f1\n",
            "Liner Kernel       0.977778   0.976190  0.981481  0.978131\n",
            "Polynomial Kernel  0.977778   0.982456  0.974359  0.977658\n",
            "Sigmoid Kernel     0.933333   0.937500  0.944444  0.935214\n",
            "Radial Basis       0.955556   0.955840  0.955840  0.955840\n"
          ]
        }
      ]
    },
    {
      "cell_type": "markdown",
      "source": [
        "#Task 3. \n",
        "Compare the performance of selected classification algorithms (Decision Tree, kNN, Logistic Regression) and SVM (using different kernels) with mnist dataset based on accuracy, precision, recall, f1 measures.\n"
      ],
      "metadata": {
        "id": "b52OPWPD2afi"
      }
    },
    {
      "cell_type": "code",
      "source": [
        "# code\n",
        "mnist = datasets.load_digits()\n",
        "X = mnist.data\n",
        "y = mnist.target\n",
        "#Chuan hoa du lieu\n",
        "scaler = StandardScaler()\n",
        "X_scaled = scaler.fit_transform(X)\n",
        "# Split 7-3\n",
        "X_train, X_test, y_train, y_test = train_test_split(X_scaled, y, test_size=0.3, random_state=42)\n",
        "#Decision Tree\n",
        "tree = DecisionTreeClassifier(criterion=\"gini\", random_state=42, max_depth=3, min_samples_leaf=5)\n",
        "tree.fit(X_train, y_train)\n",
        "y_pred_tree = tree.predict(X_test)\n",
        "#Knn\n",
        "knn = KNeighborsClassifier(n_neighbors=5)\n",
        "knn.fit(X_train, y_train)\n",
        "y_pred_knn = knn.predict(X_test)\n",
        "#Logistic Regression\n",
        "logistic = LogisticRegression(random_state=1)\n",
        "logistic.fit(X_train, y_train)\n",
        "y_pred_logistic = logistic.predict(X_test)\n",
        "#SVM\n",
        "#Linear Kernel\n",
        "clf = svm.SVC(kernel='linear')\n",
        "clf.fit(X_train, y_train)\n",
        "y_pred_linear = clf.predict(X_test)\n",
        "#Polynomial Kernel\n",
        "clf = svm.SVC(kernel='poly')\n",
        "clf.fit(X_train, y_train)\n",
        "y_pred_polynomial = clf.predict(X_test)\n",
        "#Sigmoid Kernel\n",
        "clf = svm.SVC(kernel='sigmoid')\n",
        "clf.fit(X_train, y_train)\n",
        "y_pred_sigmoid = clf.predict(X_test)\n",
        "#Radial Basis\n",
        "clf = svm.SVC(kernel='rbf')\n",
        "clf.fit(X_train, y_train)\n",
        "y_pred_radial = clf.predict(X_test)\n",
        "#create table\n",
        "table = {\n",
        "    \"Logistic\":{\n",
        "        \"accuracy\": accuracy_score(y_test, y_pred_logistic),\n",
        "        \"precision\": precision_score(y_test, y_pred_logistic, average='macro', zero_division=1),\n",
        "        \"recall\": recall_score(y_test, y_pred_logistic, average='macro'),\n",
        "        \"f1\": f1_score(y_test, y_pred_logistic, average='macro')\n",
        "    },\n",
        "    \"Knn\":{\n",
        "        \"accuracy\": accuracy_score(y_test, y_pred_knn),\n",
        "        \"precision\": precision_score(y_test, y_pred_knn, average='macro',zero_division=1),\n",
        "        \"recall\": recall_score(y_test, y_pred_knn, average='macro'),\n",
        "        \"f1\": f1_score(y_test, y_pred_knn, average='macro')\n",
        "    },\n",
        "    \"Tree\":{\n",
        "        \"accuracy\": accuracy_score(y_test, y_pred_tree),\n",
        "        \"precision\": precision_score(y_test, y_pred_tree, average='macro', zero_division=1),\n",
        "        \"recall\": recall_score(y_test, y_pred_tree, average='macro'),\n",
        "        \"f1\": f1_score(y_test, y_pred_tree, average='macro')\n",
        "    },\n",
        "    \"Liner Kernel\":{\n",
        "        \"accuracy\": accuracy_score(y_test, y_pred_linear),\n",
        "        \"precision\": precision_score(y_test, y_pred_linear, average='macro', zero_division=1),\n",
        "        \"recall\": recall_score(y_test, y_pred_linear, average='macro'),\n",
        "        \"f1\": f1_score(y_test, y_pred_linear, average='macro')\n",
        "    },\n",
        "    \"Polynomial Kernel\":{\n",
        "        \"accuracy\": accuracy_score(y_test, y_pred_polynomial),\n",
        "        \"precision\": precision_score(y_test, y_pred_polynomial, average='macro', zero_division=1),\n",
        "        \"recall\": recall_score(y_test, y_pred_polynomial, average='macro'),\n",
        "        \"f1\": f1_score(y_test, y_pred_polynomial, average='macro')\n",
        "    },\n",
        "    \"Sigmoid Kernel\":{\n",
        "        \"accuracy\": accuracy_score(y_test, y_pred_sigmoid),\n",
        "        \"precision\": precision_score(y_test, y_pred_sigmoid, average='macro', zero_division=1),\n",
        "        \"recall\": recall_score(y_test, y_pred_sigmoid, average='macro'),\n",
        "        \"f1\": f1_score(y_test, y_pred_sigmoid, average='macro')\n",
        "    },\n",
        "    \"Radial Basis\":{\n",
        "        \"accuracy\": accuracy_score(y_test, y_pred_radial),\n",
        "        \"precision\": precision_score(y_test, y_pred_radial, average='macro', zero_division=1),\n",
        "        \"recall\": recall_score(y_test, y_pred_radial, average='macro'),\n",
        "        \"f1\": f1_score(y_test, y_pred_radial, average='macro')\n",
        "    },\n",
        "}\n",
        "#print\n",
        "df_metrics = pd.DataFrame.from_dict(table, orient='index')\n",
        "print(df_metrics)"
      ],
      "metadata": {
        "colab": {
          "base_uri": "https://localhost:8080/"
        },
        "id": "LEYBdCQey_IM",
        "outputId": "f03b8c8c-0229-4865-818a-4e42a64f3e48"
      },
      "execution_count": 6,
      "outputs": [
        {
          "output_type": "stream",
          "name": "stdout",
          "text": [
            "                   accuracy  precision    recall        f1\n",
            "Logistic           0.970370   0.969846  0.970960  0.969921\n",
            "Knn                0.977778   0.978292  0.978986  0.978407\n",
            "Tree               0.479630   0.732103  0.479311  0.402085\n",
            "Liner Kernel       0.977778   0.977356  0.978005  0.977647\n",
            "Polynomial Kernel  0.938889   0.952836  0.941645  0.940543\n",
            "Sigmoid Kernel     0.940741   0.937046  0.937407  0.936626\n",
            "Radial Basis       0.981481   0.980847  0.981195  0.980790\n"
          ]
        }
      ]
    },
    {
      "cell_type": "markdown",
      "source": [
        "#Task 4. \n",
        "Compare the performance of selected classification algorithms (Decision Tree, kNN, Logistic Regression) and SVM (using different kernels) with **credit card dataset** based on accuracy, precision, recall, f1 measures.\n",
        "\n",
        "*   Give some comments on the obtained results\n",
        "*   Identify issues with dataset, and propose the solutions to these issues\n",
        "\n"
      ],
      "metadata": {
        "id": "Z5pp7_h-aP2u"
      }
    },
    {
      "cell_type": "code",
      "source": [
        "#import library\n",
        "from google.colab import drive\n",
        "drive.mount('/content/gdrive')\n",
        "%cd '/content/gdrive/MyDrive/ML'"
      ],
      "metadata": {
        "colab": {
          "base_uri": "https://localhost:8080/"
        },
        "id": "GyZXxnnX1rud",
        "outputId": "9d55d663-6421-402c-9781-0a7ee4fa2d4a"
      },
      "execution_count": 7,
      "outputs": [
        {
          "output_type": "stream",
          "name": "stdout",
          "text": [
            "Mounted at /content/gdrive\n",
            "/content/gdrive/MyDrive/ML\n"
          ]
        }
      ]
    },
    {
      "cell_type": "code",
      "source": [
        "# code\n",
        "dataSet = pd.read_csv(\"creditcard.csv\")\n",
        "dataSet = dataSet.head(3000)"
      ],
      "metadata": {
        "id": "D-tkXVLmjCsz"
      },
      "execution_count": 10,
      "outputs": []
    },
    {
      "cell_type": "code",
      "source": [
        "# code\n",
        "X = dataSet.drop('Class', axis=1)\n",
        "y = dataSet['Class']\n",
        "#Chuan hoa du lieu\n",
        "scaler = StandardScaler()\n",
        "X_scaled = scaler.fit_transform(X)\n",
        "# Split 7-3\n",
        "X_train, X_test, y_train, y_test = train_test_split(X_scaled, y, test_size=0.3, random_state=42)\n",
        "#Decision Tree\n",
        "tree = DecisionTreeClassifier(criterion=\"gini\", random_state=42, max_depth=3, min_samples_leaf=5)\n",
        "tree.fit(X_train, y_train)\n",
        "y_pred_tree = tree.predict(X_test)\n",
        "#Knn\n",
        "knn = KNeighborsClassifier(n_neighbors=5)\n",
        "knn.fit(X_train, y_train)\n",
        "y_pred_knn = knn.predict(X_test)\n",
        "#Logistic Regression\n",
        "logistic = LogisticRegression(random_state=1)\n",
        "logistic.fit(X_train, y_train)\n",
        "y_pred_logistic = logistic.predict(X_test)\n"
      ],
      "metadata": {
        "id": "Rw_-8FIf2KxW"
      },
      "execution_count": 11,
      "outputs": []
    },
    {
      "cell_type": "code",
      "source": [
        "#SVM\n",
        "#Linear Kernel\n",
        "clf = svm.SVC(kernel='linear')\n",
        "clf.fit(X_train, y_train)\n",
        "y_pred_linear = clf.predict(X_test)\n",
        "#Polynomial Kernel\n",
        "clf = svm.SVC(kernel='poly')\n",
        "clf.fit(X_train, y_train)\n",
        "y_pred_polynomial = clf.predict(X_test)\n",
        "#Sigmoid Kernel\n",
        "clf = svm.SVC(kernel='sigmoid')\n",
        "clf.fit(X_train, y_train)\n",
        "y_pred_sigmoid = clf.predict(X_test)\n",
        "#Radial Basis\n",
        "clf = svm.SVC(kernel='rbf')\n",
        "clf.fit(X_train, y_train)\n",
        "y_pred_radial = clf.predict(X_test)"
      ],
      "metadata": {
        "id": "V2NQCiLmj9cb"
      },
      "execution_count": 13,
      "outputs": []
    },
    {
      "cell_type": "code",
      "source": [
        "#create table\n",
        "table = {\n",
        "    \"Logistic\":{\n",
        "        \"accuracy\": accuracy_score(y_test, y_pred_logistic),\n",
        "        \"precision\": precision_score(y_test, y_pred_logistic, average='macro', zero_division=1),\n",
        "        \"recall\": recall_score(y_test, y_pred_logistic, average='macro', zero_division=1),\n",
        "        \"f1\": f1_score(y_test, y_pred_logistic, average='macro')\n",
        "    },\n",
        "    \"Knn\":{\n",
        "        \"accuracy\": accuracy_score(y_test, y_pred_knn),\n",
        "        \"precision\": precision_score(y_test, y_pred_knn, average='macro',zero_division=1),\n",
        "        \"recall\": recall_score(y_test, y_pred_knn, average='macro', zero_division=1),\n",
        "        \"f1\": f1_score(y_test, y_pred_knn, average='macro')\n",
        "    },\n",
        "    \"Tree\":{\n",
        "        \"accuracy\": accuracy_score(y_test, y_pred_tree),\n",
        "        \"precision\": precision_score(y_test, y_pred_tree, average='macro', zero_division=1),\n",
        "        \"recall\": recall_score(y_test, y_pred_tree, average='macro', zero_division=1),\n",
        "        \"f1\": f1_score(y_test, y_pred_tree, average='macro')\n",
        "    },\n",
        "    \"Liner Kernel\":{\n",
        "        \"accuracy\": accuracy_score(y_test, y_pred_linear),\n",
        "        \"precision\": precision_score(y_test, y_pred_linear, average='macro', zero_division=1),\n",
        "        \"recall\": recall_score(y_test, y_pred_linear, average='macro', zero_division=1),\n",
        "        \"f1\": f1_score(y_test, y_pred_linear, average='macro')\n",
        "    },\n",
        "    \"Polynomial Kernel\":{\n",
        "        \"accuracy\": accuracy_score(y_test, y_pred_polynomial),\n",
        "        \"precision\": precision_score(y_test, y_pred_polynomial, average='macro', zero_division=1),\n",
        "        \"recall\": recall_score(y_test, y_pred_polynomial, average='macro', zero_division=1),\n",
        "        \"f1\": f1_score(y_test, y_pred_polynomial, average='macro')\n",
        "    },\n",
        "    \"Sigmoid Kernel\":{\n",
        "        \"accuracy\": accuracy_score(y_test, y_pred_sigmoid),\n",
        "        \"precision\": precision_score(y_test, y_pred_sigmoid, average='macro', zero_division=1),\n",
        "        \"recall\": recall_score(y_test, y_pred_sigmoid, average='macro', zero_division=1),\n",
        "        \"f1\": f1_score(y_test, y_pred_sigmoid, average='macro')\n",
        "    },\n",
        "    \"Radial Basis\":{\n",
        "        \"accuracy\": accuracy_score(y_test, y_pred_radial),\n",
        "        \"precision\": precision_score(y_test, y_pred_radial, average='macro', zero_division=1),\n",
        "        \"recall\": recall_score(y_test, y_pred_radial, average='macro', zero_division=1),\n",
        "        \"f1\": f1_score(y_test, y_pred_radial, average='macro')\n",
        "    },\n",
        "}\n",
        "#print\n",
        "df_metrics = pd.DataFrame.from_dict(table, orient='index')\n",
        "print(df_metrics)"
      ],
      "metadata": {
        "id": "C3m9hAqv3j5o",
        "colab": {
          "base_uri": "https://localhost:8080/"
        },
        "outputId": "d33bafc3-746b-421c-92e1-de79f5006ca2"
      },
      "execution_count": 17,
      "outputs": [
        {
          "output_type": "stream",
          "name": "stdout",
          "text": [
            "                   accuracy  precision    recall        f1\n",
            "Logistic           0.998889        0.5  0.999444  0.499722\n",
            "Knn                1.000000        1.0  1.000000  1.000000\n",
            "Tree               1.000000        1.0  1.000000  1.000000\n",
            "Liner Kernel       0.998889        0.5  0.999444  0.499722\n",
            "Polynomial Kernel  1.000000        1.0  1.000000  1.000000\n",
            "Sigmoid Kernel     1.000000        1.0  1.000000  1.000000\n",
            "Radial Basis       1.000000        1.0  1.000000  1.000000\n"
          ]
        }
      ]
    },
    {
      "cell_type": "markdown",
      "source": [
        "#Finally,\n",
        "Save a copy in your Github. Remember renaming the notebook."
      ],
      "metadata": {
        "id": "Ok7RGkea_b7n"
      }
    }
  ]
}