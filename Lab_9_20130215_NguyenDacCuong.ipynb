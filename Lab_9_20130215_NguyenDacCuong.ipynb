{
  "nbformat": 4,
  "nbformat_minor": 0,
  "metadata": {
    "colab": {
      "provenance": [],
      "include_colab_link": true
    },
    "kernelspec": {
      "name": "python3",
      "display_name": "Python 3"
    },
    "language_info": {
      "name": "python"
    }
  },
  "cells": [
    {
      "cell_type": "markdown",
      "metadata": {
        "id": "view-in-github",
        "colab_type": "text"
      },
      "source": [
        "<a href=\"https://colab.research.google.com/github/NguyenDacCuong2604/ML/blob/main/Lab_9_20130215_NguyenDacCuong.ipynb\" target=\"_parent\"><img src=\"https://colab.research.google.com/assets/colab-badge.svg\" alt=\"Open In Colab\"/></a>"
      ]
    },
    {
      "cell_type": "markdown",
      "source": [
        "The main aim of this lab is to deal with the pipeline technique and MultilayerPerceptron algorithm\n",
        "\n",
        "*   **Deadline: 23:59, 24/4/2023**\n",
        "\n"
      ],
      "metadata": {
        "id": "LMzehe0sy5wr"
      }
    },
    {
      "cell_type": "markdown",
      "source": [
        "# Import libraries"
      ],
      "metadata": {
        "id": "H4nJmxp9zGX4"
      }
    },
    {
      "cell_type": "code",
      "execution_count": 1,
      "metadata": {
        "id": "DoVWQ8AEyc-C"
      },
      "outputs": [],
      "source": [
        "# code\n",
        "from sklearn.datasets import load_iris\n",
        "from sklearn.model_selection import train_test_split, GridSearchCV"
      ]
    },
    {
      "cell_type": "code",
      "source": [
        "iris = load_iris()\n",
        "X_train, X_test, y_train, y_test = train_test_split(iris.data, iris.target, test_size=0.3, random_state=32)"
      ],
      "metadata": {
        "id": "gDsvXJ2f5ofw"
      },
      "execution_count": 2,
      "outputs": []
    },
    {
      "cell_type": "markdown",
      "source": [
        "#Task 1. With **iris** dataset\n",
        "*  Apply **pipeline** including preprocessing steps (i.e., StandardScaler, **SimpleImputer**, **feature selection**, **KBinsDiscretizer**, …) and classification algorithms (i.e., **Random forest, kNN, Naïve Bayes**). \n"
      ],
      "metadata": {
        "id": "x_dG9SA5OhGT"
      }
    },
    {
      "cell_type": "code",
      "source": [
        "from sklearn.preprocessing import StandardScaler, KBinsDiscretizer\n",
        "from sklearn.impute import SimpleImputer\n",
        "from sklearn.feature_selection import SelectKBest, f_classif\n",
        "from sklearn.pipeline import Pipeline\n",
        "from sklearn.metrics import accuracy_score\n"
      ],
      "metadata": {
        "id": "KdlI60XQ0T5W"
      },
      "execution_count": 3,
      "outputs": []
    },
    {
      "cell_type": "code",
      "source": [
        "#using Random forest\n",
        "from sklearn.ensemble import RandomForestClassifier\n",
        "pipeline = Pipeline([\n",
        "    #chuan hoa du lieu bang standardscaler\n",
        "    ('scaler', StandardScaler()),\n",
        "    #dung them du lieu con thieu bang most_frequent(gia tri xuat hien nhieu nhat)\n",
        "    ('imputer', SimpleImputer(strategy='most_frequent')),\n",
        "    #using k=2, do co 4 thuoc tinh, dung 2 thuoc tinh dac trung\n",
        "    ('selector', SelectKBest(f_classif, k=2)),\n",
        "    #chia cụm dữ liệu\n",
        "    ('discretizer', KBinsDiscretizer(n_bins=3, encode='ordinal', strategy='uniform')),\n",
        "    #using thuật toán randomforestclassifier\n",
        "    ('classifier', RandomForestClassifier())\n",
        "])\n",
        "#train\n",
        "pipeline.fit(X_train, y_train)\n",
        "# Predict on the testing data\n",
        "y_pred = pipeline.predict(X_test)\n",
        "# Calculate the accuracy score\n",
        "accuracy = accuracy_score(y_test, y_pred)\n",
        "print('Accuracy:', accuracy)"
      ],
      "metadata": {
        "colab": {
          "base_uri": "https://localhost:8080/"
        },
        "id": "ZieMF_8s1N1F",
        "outputId": "95920bf4-bdda-43dc-b9d6-49f6858dbdb6"
      },
      "execution_count": 4,
      "outputs": [
        {
          "output_type": "stream",
          "name": "stdout",
          "text": [
            "Accuracy: 1.0\n"
          ]
        }
      ]
    },
    {
      "cell_type": "code",
      "source": [
        "from sklearn import set_config\n",
        "set_config(display=\"diagram\")\n",
        "pipeline"
      ],
      "metadata": {
        "colab": {
          "base_uri": "https://localhost:8080/",
          "height": 230
        },
        "id": "x1DWd5m_2_mm",
        "outputId": "c552a056-26ab-40fd-8f6a-0f28a73a2165"
      },
      "execution_count": 5,
      "outputs": [
        {
          "output_type": "execute_result",
          "data": {
            "text/plain": [
              "Pipeline(steps=[('scaler', StandardScaler()),\n",
              "                ('imputer', SimpleImputer(strategy='most_frequent')),\n",
              "                ('selector', SelectKBest(k=2)),\n",
              "                ('discretizer',\n",
              "                 KBinsDiscretizer(encode='ordinal', n_bins=3,\n",
              "                                  strategy='uniform')),\n",
              "                ('classifier', RandomForestClassifier())])"
            ],
            "text/html": [
              "<style>#sk-container-id-1 {color: black;background-color: white;}#sk-container-id-1 pre{padding: 0;}#sk-container-id-1 div.sk-toggleable {background-color: white;}#sk-container-id-1 label.sk-toggleable__label {cursor: pointer;display: block;width: 100%;margin-bottom: 0;padding: 0.3em;box-sizing: border-box;text-align: center;}#sk-container-id-1 label.sk-toggleable__label-arrow:before {content: \"▸\";float: left;margin-right: 0.25em;color: #696969;}#sk-container-id-1 label.sk-toggleable__label-arrow:hover:before {color: black;}#sk-container-id-1 div.sk-estimator:hover label.sk-toggleable__label-arrow:before {color: black;}#sk-container-id-1 div.sk-toggleable__content {max-height: 0;max-width: 0;overflow: hidden;text-align: left;background-color: #f0f8ff;}#sk-container-id-1 div.sk-toggleable__content pre {margin: 0.2em;color: black;border-radius: 0.25em;background-color: #f0f8ff;}#sk-container-id-1 input.sk-toggleable__control:checked~div.sk-toggleable__content {max-height: 200px;max-width: 100%;overflow: auto;}#sk-container-id-1 input.sk-toggleable__control:checked~label.sk-toggleable__label-arrow:before {content: \"▾\";}#sk-container-id-1 div.sk-estimator input.sk-toggleable__control:checked~label.sk-toggleable__label {background-color: #d4ebff;}#sk-container-id-1 div.sk-label input.sk-toggleable__control:checked~label.sk-toggleable__label {background-color: #d4ebff;}#sk-container-id-1 input.sk-hidden--visually {border: 0;clip: rect(1px 1px 1px 1px);clip: rect(1px, 1px, 1px, 1px);height: 1px;margin: -1px;overflow: hidden;padding: 0;position: absolute;width: 1px;}#sk-container-id-1 div.sk-estimator {font-family: monospace;background-color: #f0f8ff;border: 1px dotted black;border-radius: 0.25em;box-sizing: border-box;margin-bottom: 0.5em;}#sk-container-id-1 div.sk-estimator:hover {background-color: #d4ebff;}#sk-container-id-1 div.sk-parallel-item::after {content: \"\";width: 100%;border-bottom: 1px solid gray;flex-grow: 1;}#sk-container-id-1 div.sk-label:hover label.sk-toggleable__label {background-color: #d4ebff;}#sk-container-id-1 div.sk-serial::before {content: \"\";position: absolute;border-left: 1px solid gray;box-sizing: border-box;top: 0;bottom: 0;left: 50%;z-index: 0;}#sk-container-id-1 div.sk-serial {display: flex;flex-direction: column;align-items: center;background-color: white;padding-right: 0.2em;padding-left: 0.2em;position: relative;}#sk-container-id-1 div.sk-item {position: relative;z-index: 1;}#sk-container-id-1 div.sk-parallel {display: flex;align-items: stretch;justify-content: center;background-color: white;position: relative;}#sk-container-id-1 div.sk-item::before, #sk-container-id-1 div.sk-parallel-item::before {content: \"\";position: absolute;border-left: 1px solid gray;box-sizing: border-box;top: 0;bottom: 0;left: 50%;z-index: -1;}#sk-container-id-1 div.sk-parallel-item {display: flex;flex-direction: column;z-index: 1;position: relative;background-color: white;}#sk-container-id-1 div.sk-parallel-item:first-child::after {align-self: flex-end;width: 50%;}#sk-container-id-1 div.sk-parallel-item:last-child::after {align-self: flex-start;width: 50%;}#sk-container-id-1 div.sk-parallel-item:only-child::after {width: 0;}#sk-container-id-1 div.sk-dashed-wrapped {border: 1px dashed gray;margin: 0 0.4em 0.5em 0.4em;box-sizing: border-box;padding-bottom: 0.4em;background-color: white;}#sk-container-id-1 div.sk-label label {font-family: monospace;font-weight: bold;display: inline-block;line-height: 1.2em;}#sk-container-id-1 div.sk-label-container {text-align: center;}#sk-container-id-1 div.sk-container {/* jupyter's `normalize.less` sets `[hidden] { display: none; }` but bootstrap.min.css set `[hidden] { display: none !important; }` so we also need the `!important` here to be able to override the default hidden behavior on the sphinx rendered scikit-learn.org. See: https://github.com/scikit-learn/scikit-learn/issues/21755 */display: inline-block !important;position: relative;}#sk-container-id-1 div.sk-text-repr-fallback {display: none;}</style><div id=\"sk-container-id-1\" class=\"sk-top-container\"><div class=\"sk-text-repr-fallback\"><pre>Pipeline(steps=[(&#x27;scaler&#x27;, StandardScaler()),\n",
              "                (&#x27;imputer&#x27;, SimpleImputer(strategy=&#x27;most_frequent&#x27;)),\n",
              "                (&#x27;selector&#x27;, SelectKBest(k=2)),\n",
              "                (&#x27;discretizer&#x27;,\n",
              "                 KBinsDiscretizer(encode=&#x27;ordinal&#x27;, n_bins=3,\n",
              "                                  strategy=&#x27;uniform&#x27;)),\n",
              "                (&#x27;classifier&#x27;, RandomForestClassifier())])</pre><b>In a Jupyter environment, please rerun this cell to show the HTML representation or trust the notebook. <br />On GitHub, the HTML representation is unable to render, please try loading this page with nbviewer.org.</b></div><div class=\"sk-container\" hidden><div class=\"sk-item sk-dashed-wrapped\"><div class=\"sk-label-container\"><div class=\"sk-label sk-toggleable\"><input class=\"sk-toggleable__control sk-hidden--visually\" id=\"sk-estimator-id-1\" type=\"checkbox\" ><label for=\"sk-estimator-id-1\" class=\"sk-toggleable__label sk-toggleable__label-arrow\">Pipeline</label><div class=\"sk-toggleable__content\"><pre>Pipeline(steps=[(&#x27;scaler&#x27;, StandardScaler()),\n",
              "                (&#x27;imputer&#x27;, SimpleImputer(strategy=&#x27;most_frequent&#x27;)),\n",
              "                (&#x27;selector&#x27;, SelectKBest(k=2)),\n",
              "                (&#x27;discretizer&#x27;,\n",
              "                 KBinsDiscretizer(encode=&#x27;ordinal&#x27;, n_bins=3,\n",
              "                                  strategy=&#x27;uniform&#x27;)),\n",
              "                (&#x27;classifier&#x27;, RandomForestClassifier())])</pre></div></div></div><div class=\"sk-serial\"><div class=\"sk-item\"><div class=\"sk-estimator sk-toggleable\"><input class=\"sk-toggleable__control sk-hidden--visually\" id=\"sk-estimator-id-2\" type=\"checkbox\" ><label for=\"sk-estimator-id-2\" class=\"sk-toggleable__label sk-toggleable__label-arrow\">StandardScaler</label><div class=\"sk-toggleable__content\"><pre>StandardScaler()</pre></div></div></div><div class=\"sk-item\"><div class=\"sk-estimator sk-toggleable\"><input class=\"sk-toggleable__control sk-hidden--visually\" id=\"sk-estimator-id-3\" type=\"checkbox\" ><label for=\"sk-estimator-id-3\" class=\"sk-toggleable__label sk-toggleable__label-arrow\">SimpleImputer</label><div class=\"sk-toggleable__content\"><pre>SimpleImputer(strategy=&#x27;most_frequent&#x27;)</pre></div></div></div><div class=\"sk-item\"><div class=\"sk-estimator sk-toggleable\"><input class=\"sk-toggleable__control sk-hidden--visually\" id=\"sk-estimator-id-4\" type=\"checkbox\" ><label for=\"sk-estimator-id-4\" class=\"sk-toggleable__label sk-toggleable__label-arrow\">SelectKBest</label><div class=\"sk-toggleable__content\"><pre>SelectKBest(k=2)</pre></div></div></div><div class=\"sk-item\"><div class=\"sk-estimator sk-toggleable\"><input class=\"sk-toggleable__control sk-hidden--visually\" id=\"sk-estimator-id-5\" type=\"checkbox\" ><label for=\"sk-estimator-id-5\" class=\"sk-toggleable__label sk-toggleable__label-arrow\">KBinsDiscretizer</label><div class=\"sk-toggleable__content\"><pre>KBinsDiscretizer(encode=&#x27;ordinal&#x27;, n_bins=3, strategy=&#x27;uniform&#x27;)</pre></div></div></div><div class=\"sk-item\"><div class=\"sk-estimator sk-toggleable\"><input class=\"sk-toggleable__control sk-hidden--visually\" id=\"sk-estimator-id-6\" type=\"checkbox\" ><label for=\"sk-estimator-id-6\" class=\"sk-toggleable__label sk-toggleable__label-arrow\">RandomForestClassifier</label><div class=\"sk-toggleable__content\"><pre>RandomForestClassifier()</pre></div></div></div></div></div></div></div>"
            ]
          },
          "metadata": {},
          "execution_count": 5
        }
      ]
    },
    {
      "cell_type": "code",
      "source": [
        "#using knn\n",
        "from sklearn.neighbors import KNeighborsClassifier\n",
        "pipeline = Pipeline([\n",
        "    #chuan hoa du lieu bang standardscaler\n",
        "    ('scaler', StandardScaler()),\n",
        "    #dung them du lieu con thieu bang most_frequent(gia tri xuat hien nhieu nhat)\n",
        "    ('imputer', SimpleImputer(strategy='most_frequent')),\n",
        "    #using k=2, do co 4 thuoc tinh, dung 2 thuoc tinh dac trung\n",
        "    ('selector', SelectKBest(f_classif, k=2)),\n",
        "    #chia cụm dữ liệu\n",
        "    ('discretizer', KBinsDiscretizer(n_bins=3, encode='ordinal', strategy='uniform')),\n",
        "    #using thuật toán knn\n",
        "    ('knn', KNeighborsClassifier())\n",
        "])\n",
        "#train\n",
        "pipeline.fit(X_train, y_train)\n",
        "# Predict on the testing data\n",
        "y_pred = pipeline.predict(X_test)\n",
        "# Calculate the accuracy score\n",
        "accuracy = accuracy_score(y_test, y_pred)\n",
        "print('Accuracy:', accuracy)"
      ],
      "metadata": {
        "colab": {
          "base_uri": "https://localhost:8080/"
        },
        "id": "gRNtKhge3VsW",
        "outputId": "9e8c5e73-b2af-4432-d95f-97797a312d93"
      },
      "execution_count": 6,
      "outputs": [
        {
          "output_type": "stream",
          "name": "stdout",
          "text": [
            "Accuracy: 0.9555555555555556\n"
          ]
        }
      ]
    },
    {
      "cell_type": "code",
      "source": [
        "from sklearn import set_config\n",
        "set_config(display=\"diagram\")\n",
        "pipeline"
      ],
      "metadata": {
        "colab": {
          "base_uri": "https://localhost:8080/",
          "height": 230
        },
        "id": "1ygmC_8l3uIO",
        "outputId": "34f3c072-5e4e-44e7-c458-4ba1a2d56b51"
      },
      "execution_count": 7,
      "outputs": [
        {
          "output_type": "execute_result",
          "data": {
            "text/plain": [
              "Pipeline(steps=[('scaler', StandardScaler()),\n",
              "                ('imputer', SimpleImputer(strategy='most_frequent')),\n",
              "                ('selector', SelectKBest(k=2)),\n",
              "                ('discretizer',\n",
              "                 KBinsDiscretizer(encode='ordinal', n_bins=3,\n",
              "                                  strategy='uniform')),\n",
              "                ('knn', KNeighborsClassifier())])"
            ],
            "text/html": [
              "<style>#sk-container-id-2 {color: black;background-color: white;}#sk-container-id-2 pre{padding: 0;}#sk-container-id-2 div.sk-toggleable {background-color: white;}#sk-container-id-2 label.sk-toggleable__label {cursor: pointer;display: block;width: 100%;margin-bottom: 0;padding: 0.3em;box-sizing: border-box;text-align: center;}#sk-container-id-2 label.sk-toggleable__label-arrow:before {content: \"▸\";float: left;margin-right: 0.25em;color: #696969;}#sk-container-id-2 label.sk-toggleable__label-arrow:hover:before {color: black;}#sk-container-id-2 div.sk-estimator:hover label.sk-toggleable__label-arrow:before {color: black;}#sk-container-id-2 div.sk-toggleable__content {max-height: 0;max-width: 0;overflow: hidden;text-align: left;background-color: #f0f8ff;}#sk-container-id-2 div.sk-toggleable__content pre {margin: 0.2em;color: black;border-radius: 0.25em;background-color: #f0f8ff;}#sk-container-id-2 input.sk-toggleable__control:checked~div.sk-toggleable__content {max-height: 200px;max-width: 100%;overflow: auto;}#sk-container-id-2 input.sk-toggleable__control:checked~label.sk-toggleable__label-arrow:before {content: \"▾\";}#sk-container-id-2 div.sk-estimator input.sk-toggleable__control:checked~label.sk-toggleable__label {background-color: #d4ebff;}#sk-container-id-2 div.sk-label input.sk-toggleable__control:checked~label.sk-toggleable__label {background-color: #d4ebff;}#sk-container-id-2 input.sk-hidden--visually {border: 0;clip: rect(1px 1px 1px 1px);clip: rect(1px, 1px, 1px, 1px);height: 1px;margin: -1px;overflow: hidden;padding: 0;position: absolute;width: 1px;}#sk-container-id-2 div.sk-estimator {font-family: monospace;background-color: #f0f8ff;border: 1px dotted black;border-radius: 0.25em;box-sizing: border-box;margin-bottom: 0.5em;}#sk-container-id-2 div.sk-estimator:hover {background-color: #d4ebff;}#sk-container-id-2 div.sk-parallel-item::after {content: \"\";width: 100%;border-bottom: 1px solid gray;flex-grow: 1;}#sk-container-id-2 div.sk-label:hover label.sk-toggleable__label {background-color: #d4ebff;}#sk-container-id-2 div.sk-serial::before {content: \"\";position: absolute;border-left: 1px solid gray;box-sizing: border-box;top: 0;bottom: 0;left: 50%;z-index: 0;}#sk-container-id-2 div.sk-serial {display: flex;flex-direction: column;align-items: center;background-color: white;padding-right: 0.2em;padding-left: 0.2em;position: relative;}#sk-container-id-2 div.sk-item {position: relative;z-index: 1;}#sk-container-id-2 div.sk-parallel {display: flex;align-items: stretch;justify-content: center;background-color: white;position: relative;}#sk-container-id-2 div.sk-item::before, #sk-container-id-2 div.sk-parallel-item::before {content: \"\";position: absolute;border-left: 1px solid gray;box-sizing: border-box;top: 0;bottom: 0;left: 50%;z-index: -1;}#sk-container-id-2 div.sk-parallel-item {display: flex;flex-direction: column;z-index: 1;position: relative;background-color: white;}#sk-container-id-2 div.sk-parallel-item:first-child::after {align-self: flex-end;width: 50%;}#sk-container-id-2 div.sk-parallel-item:last-child::after {align-self: flex-start;width: 50%;}#sk-container-id-2 div.sk-parallel-item:only-child::after {width: 0;}#sk-container-id-2 div.sk-dashed-wrapped {border: 1px dashed gray;margin: 0 0.4em 0.5em 0.4em;box-sizing: border-box;padding-bottom: 0.4em;background-color: white;}#sk-container-id-2 div.sk-label label {font-family: monospace;font-weight: bold;display: inline-block;line-height: 1.2em;}#sk-container-id-2 div.sk-label-container {text-align: center;}#sk-container-id-2 div.sk-container {/* jupyter's `normalize.less` sets `[hidden] { display: none; }` but bootstrap.min.css set `[hidden] { display: none !important; }` so we also need the `!important` here to be able to override the default hidden behavior on the sphinx rendered scikit-learn.org. See: https://github.com/scikit-learn/scikit-learn/issues/21755 */display: inline-block !important;position: relative;}#sk-container-id-2 div.sk-text-repr-fallback {display: none;}</style><div id=\"sk-container-id-2\" class=\"sk-top-container\"><div class=\"sk-text-repr-fallback\"><pre>Pipeline(steps=[(&#x27;scaler&#x27;, StandardScaler()),\n",
              "                (&#x27;imputer&#x27;, SimpleImputer(strategy=&#x27;most_frequent&#x27;)),\n",
              "                (&#x27;selector&#x27;, SelectKBest(k=2)),\n",
              "                (&#x27;discretizer&#x27;,\n",
              "                 KBinsDiscretizer(encode=&#x27;ordinal&#x27;, n_bins=3,\n",
              "                                  strategy=&#x27;uniform&#x27;)),\n",
              "                (&#x27;knn&#x27;, KNeighborsClassifier())])</pre><b>In a Jupyter environment, please rerun this cell to show the HTML representation or trust the notebook. <br />On GitHub, the HTML representation is unable to render, please try loading this page with nbviewer.org.</b></div><div class=\"sk-container\" hidden><div class=\"sk-item sk-dashed-wrapped\"><div class=\"sk-label-container\"><div class=\"sk-label sk-toggleable\"><input class=\"sk-toggleable__control sk-hidden--visually\" id=\"sk-estimator-id-7\" type=\"checkbox\" ><label for=\"sk-estimator-id-7\" class=\"sk-toggleable__label sk-toggleable__label-arrow\">Pipeline</label><div class=\"sk-toggleable__content\"><pre>Pipeline(steps=[(&#x27;scaler&#x27;, StandardScaler()),\n",
              "                (&#x27;imputer&#x27;, SimpleImputer(strategy=&#x27;most_frequent&#x27;)),\n",
              "                (&#x27;selector&#x27;, SelectKBest(k=2)),\n",
              "                (&#x27;discretizer&#x27;,\n",
              "                 KBinsDiscretizer(encode=&#x27;ordinal&#x27;, n_bins=3,\n",
              "                                  strategy=&#x27;uniform&#x27;)),\n",
              "                (&#x27;knn&#x27;, KNeighborsClassifier())])</pre></div></div></div><div class=\"sk-serial\"><div class=\"sk-item\"><div class=\"sk-estimator sk-toggleable\"><input class=\"sk-toggleable__control sk-hidden--visually\" id=\"sk-estimator-id-8\" type=\"checkbox\" ><label for=\"sk-estimator-id-8\" class=\"sk-toggleable__label sk-toggleable__label-arrow\">StandardScaler</label><div class=\"sk-toggleable__content\"><pre>StandardScaler()</pre></div></div></div><div class=\"sk-item\"><div class=\"sk-estimator sk-toggleable\"><input class=\"sk-toggleable__control sk-hidden--visually\" id=\"sk-estimator-id-9\" type=\"checkbox\" ><label for=\"sk-estimator-id-9\" class=\"sk-toggleable__label sk-toggleable__label-arrow\">SimpleImputer</label><div class=\"sk-toggleable__content\"><pre>SimpleImputer(strategy=&#x27;most_frequent&#x27;)</pre></div></div></div><div class=\"sk-item\"><div class=\"sk-estimator sk-toggleable\"><input class=\"sk-toggleable__control sk-hidden--visually\" id=\"sk-estimator-id-10\" type=\"checkbox\" ><label for=\"sk-estimator-id-10\" class=\"sk-toggleable__label sk-toggleable__label-arrow\">SelectKBest</label><div class=\"sk-toggleable__content\"><pre>SelectKBest(k=2)</pre></div></div></div><div class=\"sk-item\"><div class=\"sk-estimator sk-toggleable\"><input class=\"sk-toggleable__control sk-hidden--visually\" id=\"sk-estimator-id-11\" type=\"checkbox\" ><label for=\"sk-estimator-id-11\" class=\"sk-toggleable__label sk-toggleable__label-arrow\">KBinsDiscretizer</label><div class=\"sk-toggleable__content\"><pre>KBinsDiscretizer(encode=&#x27;ordinal&#x27;, n_bins=3, strategy=&#x27;uniform&#x27;)</pre></div></div></div><div class=\"sk-item\"><div class=\"sk-estimator sk-toggleable\"><input class=\"sk-toggleable__control sk-hidden--visually\" id=\"sk-estimator-id-12\" type=\"checkbox\" ><label for=\"sk-estimator-id-12\" class=\"sk-toggleable__label sk-toggleable__label-arrow\">KNeighborsClassifier</label><div class=\"sk-toggleable__content\"><pre>KNeighborsClassifier()</pre></div></div></div></div></div></div></div>"
            ]
          },
          "metadata": {},
          "execution_count": 7
        }
      ]
    },
    {
      "cell_type": "code",
      "source": [
        "#using Naïve Bayes\n",
        "from sklearn.naive_bayes import GaussianNB\n",
        "pipeline = Pipeline([\n",
        "    #chuan hoa du lieu bang standardscaler\n",
        "    ('scaler', StandardScaler()),\n",
        "    #dung them du lieu con thieu bang most_frequent(gia tri xuat hien nhieu nhat)\n",
        "    ('imputer', SimpleImputer(strategy='most_frequent')),\n",
        "    #using k=2, do co 4 thuoc tinh, dung 2 thuoc tinh dac trung\n",
        "    ('selector', SelectKBest(f_classif, k=2)),\n",
        "    #chia cụm dữ liệu\n",
        "    ('discretizer', KBinsDiscretizer(n_bins=4, encode='ordinal', strategy='uniform')),\n",
        "    #using bayes\n",
        "    ('bayes', GaussianNB())\n",
        "])\n",
        "#train\n",
        "pipeline.fit(X_train, y_train)\n",
        "# Predict on the testing data\n",
        "y_pred = pipeline.predict(X_test)\n",
        "# Calculate the accuracy score\n",
        "accuracy = accuracy_score(y_test, y_pred)\n",
        "print('Accuracy:', accuracy)"
      ],
      "metadata": {
        "colab": {
          "base_uri": "https://localhost:8080/"
        },
        "id": "Vclk1Tta37dH",
        "outputId": "271e5579-3a52-4697-8f75-6d73efc912f3"
      },
      "execution_count": 8,
      "outputs": [
        {
          "output_type": "stream",
          "name": "stdout",
          "text": [
            "Accuracy: 0.9333333333333333\n"
          ]
        }
      ]
    },
    {
      "cell_type": "code",
      "source": [
        "from sklearn import set_config\n",
        "set_config(display=\"diagram\")\n",
        "pipeline"
      ],
      "metadata": {
        "colab": {
          "base_uri": "https://localhost:8080/",
          "height": 230
        },
        "id": "6e0mhLKw4vjf",
        "outputId": "74ff4bfd-9d12-49d8-a06b-89486c77dad1"
      },
      "execution_count": 9,
      "outputs": [
        {
          "output_type": "execute_result",
          "data": {
            "text/plain": [
              "Pipeline(steps=[('scaler', StandardScaler()),\n",
              "                ('imputer', SimpleImputer(strategy='most_frequent')),\n",
              "                ('selector', SelectKBest(k=2)),\n",
              "                ('discretizer',\n",
              "                 KBinsDiscretizer(encode='ordinal', n_bins=4,\n",
              "                                  strategy='uniform')),\n",
              "                ('bayes', GaussianNB())])"
            ],
            "text/html": [
              "<style>#sk-container-id-3 {color: black;background-color: white;}#sk-container-id-3 pre{padding: 0;}#sk-container-id-3 div.sk-toggleable {background-color: white;}#sk-container-id-3 label.sk-toggleable__label {cursor: pointer;display: block;width: 100%;margin-bottom: 0;padding: 0.3em;box-sizing: border-box;text-align: center;}#sk-container-id-3 label.sk-toggleable__label-arrow:before {content: \"▸\";float: left;margin-right: 0.25em;color: #696969;}#sk-container-id-3 label.sk-toggleable__label-arrow:hover:before {color: black;}#sk-container-id-3 div.sk-estimator:hover label.sk-toggleable__label-arrow:before {color: black;}#sk-container-id-3 div.sk-toggleable__content {max-height: 0;max-width: 0;overflow: hidden;text-align: left;background-color: #f0f8ff;}#sk-container-id-3 div.sk-toggleable__content pre {margin: 0.2em;color: black;border-radius: 0.25em;background-color: #f0f8ff;}#sk-container-id-3 input.sk-toggleable__control:checked~div.sk-toggleable__content {max-height: 200px;max-width: 100%;overflow: auto;}#sk-container-id-3 input.sk-toggleable__control:checked~label.sk-toggleable__label-arrow:before {content: \"▾\";}#sk-container-id-3 div.sk-estimator input.sk-toggleable__control:checked~label.sk-toggleable__label {background-color: #d4ebff;}#sk-container-id-3 div.sk-label input.sk-toggleable__control:checked~label.sk-toggleable__label {background-color: #d4ebff;}#sk-container-id-3 input.sk-hidden--visually {border: 0;clip: rect(1px 1px 1px 1px);clip: rect(1px, 1px, 1px, 1px);height: 1px;margin: -1px;overflow: hidden;padding: 0;position: absolute;width: 1px;}#sk-container-id-3 div.sk-estimator {font-family: monospace;background-color: #f0f8ff;border: 1px dotted black;border-radius: 0.25em;box-sizing: border-box;margin-bottom: 0.5em;}#sk-container-id-3 div.sk-estimator:hover {background-color: #d4ebff;}#sk-container-id-3 div.sk-parallel-item::after {content: \"\";width: 100%;border-bottom: 1px solid gray;flex-grow: 1;}#sk-container-id-3 div.sk-label:hover label.sk-toggleable__label {background-color: #d4ebff;}#sk-container-id-3 div.sk-serial::before {content: \"\";position: absolute;border-left: 1px solid gray;box-sizing: border-box;top: 0;bottom: 0;left: 50%;z-index: 0;}#sk-container-id-3 div.sk-serial {display: flex;flex-direction: column;align-items: center;background-color: white;padding-right: 0.2em;padding-left: 0.2em;position: relative;}#sk-container-id-3 div.sk-item {position: relative;z-index: 1;}#sk-container-id-3 div.sk-parallel {display: flex;align-items: stretch;justify-content: center;background-color: white;position: relative;}#sk-container-id-3 div.sk-item::before, #sk-container-id-3 div.sk-parallel-item::before {content: \"\";position: absolute;border-left: 1px solid gray;box-sizing: border-box;top: 0;bottom: 0;left: 50%;z-index: -1;}#sk-container-id-3 div.sk-parallel-item {display: flex;flex-direction: column;z-index: 1;position: relative;background-color: white;}#sk-container-id-3 div.sk-parallel-item:first-child::after {align-self: flex-end;width: 50%;}#sk-container-id-3 div.sk-parallel-item:last-child::after {align-self: flex-start;width: 50%;}#sk-container-id-3 div.sk-parallel-item:only-child::after {width: 0;}#sk-container-id-3 div.sk-dashed-wrapped {border: 1px dashed gray;margin: 0 0.4em 0.5em 0.4em;box-sizing: border-box;padding-bottom: 0.4em;background-color: white;}#sk-container-id-3 div.sk-label label {font-family: monospace;font-weight: bold;display: inline-block;line-height: 1.2em;}#sk-container-id-3 div.sk-label-container {text-align: center;}#sk-container-id-3 div.sk-container {/* jupyter's `normalize.less` sets `[hidden] { display: none; }` but bootstrap.min.css set `[hidden] { display: none !important; }` so we also need the `!important` here to be able to override the default hidden behavior on the sphinx rendered scikit-learn.org. See: https://github.com/scikit-learn/scikit-learn/issues/21755 */display: inline-block !important;position: relative;}#sk-container-id-3 div.sk-text-repr-fallback {display: none;}</style><div id=\"sk-container-id-3\" class=\"sk-top-container\"><div class=\"sk-text-repr-fallback\"><pre>Pipeline(steps=[(&#x27;scaler&#x27;, StandardScaler()),\n",
              "                (&#x27;imputer&#x27;, SimpleImputer(strategy=&#x27;most_frequent&#x27;)),\n",
              "                (&#x27;selector&#x27;, SelectKBest(k=2)),\n",
              "                (&#x27;discretizer&#x27;,\n",
              "                 KBinsDiscretizer(encode=&#x27;ordinal&#x27;, n_bins=4,\n",
              "                                  strategy=&#x27;uniform&#x27;)),\n",
              "                (&#x27;bayes&#x27;, GaussianNB())])</pre><b>In a Jupyter environment, please rerun this cell to show the HTML representation or trust the notebook. <br />On GitHub, the HTML representation is unable to render, please try loading this page with nbviewer.org.</b></div><div class=\"sk-container\" hidden><div class=\"sk-item sk-dashed-wrapped\"><div class=\"sk-label-container\"><div class=\"sk-label sk-toggleable\"><input class=\"sk-toggleable__control sk-hidden--visually\" id=\"sk-estimator-id-13\" type=\"checkbox\" ><label for=\"sk-estimator-id-13\" class=\"sk-toggleable__label sk-toggleable__label-arrow\">Pipeline</label><div class=\"sk-toggleable__content\"><pre>Pipeline(steps=[(&#x27;scaler&#x27;, StandardScaler()),\n",
              "                (&#x27;imputer&#x27;, SimpleImputer(strategy=&#x27;most_frequent&#x27;)),\n",
              "                (&#x27;selector&#x27;, SelectKBest(k=2)),\n",
              "                (&#x27;discretizer&#x27;,\n",
              "                 KBinsDiscretizer(encode=&#x27;ordinal&#x27;, n_bins=4,\n",
              "                                  strategy=&#x27;uniform&#x27;)),\n",
              "                (&#x27;bayes&#x27;, GaussianNB())])</pre></div></div></div><div class=\"sk-serial\"><div class=\"sk-item\"><div class=\"sk-estimator sk-toggleable\"><input class=\"sk-toggleable__control sk-hidden--visually\" id=\"sk-estimator-id-14\" type=\"checkbox\" ><label for=\"sk-estimator-id-14\" class=\"sk-toggleable__label sk-toggleable__label-arrow\">StandardScaler</label><div class=\"sk-toggleable__content\"><pre>StandardScaler()</pre></div></div></div><div class=\"sk-item\"><div class=\"sk-estimator sk-toggleable\"><input class=\"sk-toggleable__control sk-hidden--visually\" id=\"sk-estimator-id-15\" type=\"checkbox\" ><label for=\"sk-estimator-id-15\" class=\"sk-toggleable__label sk-toggleable__label-arrow\">SimpleImputer</label><div class=\"sk-toggleable__content\"><pre>SimpleImputer(strategy=&#x27;most_frequent&#x27;)</pre></div></div></div><div class=\"sk-item\"><div class=\"sk-estimator sk-toggleable\"><input class=\"sk-toggleable__control sk-hidden--visually\" id=\"sk-estimator-id-16\" type=\"checkbox\" ><label for=\"sk-estimator-id-16\" class=\"sk-toggleable__label sk-toggleable__label-arrow\">SelectKBest</label><div class=\"sk-toggleable__content\"><pre>SelectKBest(k=2)</pre></div></div></div><div class=\"sk-item\"><div class=\"sk-estimator sk-toggleable\"><input class=\"sk-toggleable__control sk-hidden--visually\" id=\"sk-estimator-id-17\" type=\"checkbox\" ><label for=\"sk-estimator-id-17\" class=\"sk-toggleable__label sk-toggleable__label-arrow\">KBinsDiscretizer</label><div class=\"sk-toggleable__content\"><pre>KBinsDiscretizer(encode=&#x27;ordinal&#x27;, n_bins=4, strategy=&#x27;uniform&#x27;)</pre></div></div></div><div class=\"sk-item\"><div class=\"sk-estimator sk-toggleable\"><input class=\"sk-toggleable__control sk-hidden--visually\" id=\"sk-estimator-id-18\" type=\"checkbox\" ><label for=\"sk-estimator-id-18\" class=\"sk-toggleable__label sk-toggleable__label-arrow\">GaussianNB</label><div class=\"sk-toggleable__content\"><pre>GaussianNB()</pre></div></div></div></div></div></div></div>"
            ]
          },
          "metadata": {},
          "execution_count": 9
        }
      ]
    },
    {
      "cell_type": "markdown",
      "source": [
        "#Task 2. With **mnist** dataset: \n",
        "*   2.1. Apply **MultilayerPerceptron** classification with 1 hidden layer \n",
        "having 10 nodes"
      ],
      "metadata": {
        "id": "kNv07ARGzOUm"
      }
    },
    {
      "cell_type": "code",
      "source": [
        "# code\n",
        "from sklearn import datasets\n",
        "mnist = datasets.load_digits()\n",
        "X = mnist.data\n",
        "y = mnist.target\n",
        "X_train, X_test, y_train, y_test = train_test_split(X, y, test_size=0.2, random_state=1)"
      ],
      "metadata": {
        "id": "sOsg77IBzEyo"
      },
      "execution_count": 10,
      "outputs": []
    },
    {
      "cell_type": "code",
      "source": [
        "from sklearn.neural_network import MLPClassifier"
      ],
      "metadata": {
        "id": "KpSKKlXs8JH5"
      },
      "execution_count": 11,
      "outputs": []
    },
    {
      "cell_type": "code",
      "source": [
        "clf = MLPClassifier(hidden_layer_sizes=(10), max_iter=1000)\n",
        "clf.fit(X_train, y_train)\n",
        "score = clf.score(X_test, y_test)\n",
        "print('Accuracy: %.2f%%' % (score * 100))"
      ],
      "metadata": {
        "colab": {
          "base_uri": "https://localhost:8080/"
        },
        "id": "0Q_qBbde8OA3",
        "outputId": "18de2284-78f4-41d0-e77d-5f10595738cd"
      },
      "execution_count": 12,
      "outputs": [
        {
          "output_type": "stream",
          "name": "stdout",
          "text": [
            "Accuracy: 95.00%\n"
          ]
        }
      ]
    },
    {
      "cell_type": "markdown",
      "source": [
        "*   2.2. Apply **Multilayerperceptron** algorithm with the following settings (the first hidden layer has 250 neuron, the second one has 100 neurons). \n",
        "\n",
        "![image.png](data:image/png;base64,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)"
      ],
      "metadata": {
        "id": "pnoVB8J4vV36"
      }
    },
    {
      "cell_type": "code",
      "source": [
        "# code\n",
        "mlp = MLPClassifier(hidden_layer_sizes=(250, 100), max_iter=1000)\n",
        "# Train the model on the training set\n",
        "mlp.fit(X_train, y_train)\n",
        "# Evaluate the model on the test set\n",
        "score = mlp.score(X_test, y_test)\n",
        "print('Accuracy: %.2f%%' % (score * 100))"
      ],
      "metadata": {
        "id": "-ZTSvsJdvYqI",
        "colab": {
          "base_uri": "https://localhost:8080/"
        },
        "outputId": "e6891f00-d38c-4bce-feeb-63362eb7c862"
      },
      "execution_count": 13,
      "outputs": [
        {
          "output_type": "stream",
          "name": "stdout",
          "text": [
            "Accuracy: 97.78%\n"
          ]
        }
      ]
    },
    {
      "cell_type": "markdown",
      "source": [
        "*   2.3. Find the best hyper parameters using **GridSearchCV**"
      ],
      "metadata": {
        "id": "uyey-ndXvZlb"
      }
    },
    {
      "cell_type": "code",
      "source": [
        "#code\n",
        "mlp = MLPClassifier(max_iter=3000)\n",
        "param_grid = {\n",
        "    'hidden_layer_sizes': [(50,), (100,), (50, 50)],\n",
        "    'activation': ['relu', 'tanh', 'logistic'],\n",
        "    'solver': ['sgd', 'adam'],\n",
        "    'alpha': [0.01, 0.1]\n",
        "}\n",
        "grid_search = GridSearchCV(mlp, param_grid, cv=3)\n",
        "grid_search.fit(X_train, y_train)\n",
        "print('Best hyperparameters:', grid_search.best_params_)\n",
        "print('Best mean cross-validation score: %.2f%%' % (grid_search.best_score_ * 100))"
      ],
      "metadata": {
        "id": "Qzh_D-rgvbv9",
        "colab": {
          "base_uri": "https://localhost:8080/"
        },
        "outputId": "bffc7e61-ef4e-4885-c24e-df0d5809f856"
      },
      "execution_count": 18,
      "outputs": [
        {
          "output_type": "stream",
          "name": "stdout",
          "text": [
            "Best hyperparameters: {'activation': 'logistic', 'alpha': 0.1, 'hidden_layer_sizes': (100,), 'solver': 'adam'}\n",
            "Best mean cross-validation score: 97.70%\n"
          ]
        }
      ]
    },
    {
      "cell_type": "markdown",
      "source": [
        "*   2.4. Compare the MultilayerPerceptron using the best hyper parameters in 2.3 and other classification algorithms (i.e., Random forest, kNN, Naïve Bayes)  in termns of accuracy, precision, recall, and F1"
      ],
      "metadata": {
        "id": "ol1U_T_NvcqV"
      }
    },
    {
      "cell_type": "code",
      "source": [
        "#code\n",
        "from sklearn.metrics import accuracy_score, precision_score, recall_score, f1_score"
      ],
      "metadata": {
        "id": "5ZE7A0Au1Pg0"
      },
      "execution_count": 16,
      "outputs": []
    },
    {
      "cell_type": "code",
      "source": [
        "mlp = MLPClassifier(hidden_layer_sizes=(100,), activation='logistic', solver='adam', alpha=0.1, max_iter=3000)\n",
        "rf = RandomForestClassifier()\n",
        "knn = KNeighborsClassifier()\n",
        "nb = GaussianNB()\n",
        "# Train and test each model\n",
        "models = {'Multilayer Perceptron': mlp, 'Random Forest': rf, 'k-NN': knn, 'Naive Bayes': nb}\n",
        "for name, model in models.items():\n",
        "    model.fit(X_train, y_train)\n",
        "    y_pred = model.predict(X_test)\n",
        "    accuracy = accuracy_score(y_test, y_pred)\n",
        "    precision = precision_score(y_test, y_pred, average='macro')\n",
        "    recall = recall_score(y_test, y_pred, average='macro')\n",
        "    f1 = f1_score(y_test, y_pred, average='macro')\n",
        "    print('%s: Accuracy=%.2f%%, Precision=%.2f%%, Recall=%.2f%%, F1-score=%.2f%%' % (name, accuracy*100, precision*100, recall*100, f1*100))"
      ],
      "metadata": {
        "colab": {
          "base_uri": "https://localhost:8080/"
        },
        "id": "9HMyOdX4_Y0K",
        "outputId": "47ab58f2-821b-4705-99ed-ad5cf929da1e"
      },
      "execution_count": 19,
      "outputs": [
        {
          "output_type": "stream",
          "name": "stdout",
          "text": [
            "Multilayer Perceptron: Accuracy=98.06%, Precision=97.99%, Recall=97.85%, F1-score=97.90%\n",
            "Random Forest: Accuracy=98.61%, Precision=98.57%, Recall=98.70%, F1-score=98.62%\n",
            "k-NN: Accuracy=99.44%, Precision=99.44%, Recall=99.45%, F1-score=99.44%\n",
            "Naive Bayes: Accuracy=85.28%, Precision=87.81%, Recall=85.10%, F1-score=84.76%\n"
          ]
        }
      ]
    },
    {
      "cell_type": "markdown",
      "source": [
        "#Task 3. With **spambase** dataset: "
      ],
      "metadata": {
        "id": "SBSLD_k3Pk3X"
      }
    },
    {
      "cell_type": "markdown",
      "source": [
        "*   3.1. Apply **GridSearchCV** to **MultilayperPerceptron** to find the best hyperparameters (the setting of hyperparameters chosen by students)"
      ],
      "metadata": {
        "id": "w1IZborjPzMH"
      }
    },
    {
      "cell_type": "code",
      "source": [
        "#code"
      ],
      "metadata": {
        "id": "m-mbZEK0QZTv"
      },
      "execution_count": null,
      "outputs": []
    },
    {
      "cell_type": "markdown",
      "source": [
        "*   3.2. Compare the **MultilayerPerceptron** using the best hyper parameters in 3.1) and other classification algorithms (i.e., Random forest, kNN, Naïve Bayes)  in termns of accuracy, precision, recall, and F1"
      ],
      "metadata": {
        "id": "H77rqX7sPv9v"
      }
    },
    {
      "cell_type": "code",
      "source": [
        "#code"
      ],
      "metadata": {
        "id": "pBU6vVH_QakV"
      },
      "execution_count": null,
      "outputs": []
    },
    {
      "cell_type": "markdown",
      "source": [
        "#Finally,\n",
        "Save a copy in your Github. Remember renaming the notebook."
      ],
      "metadata": {
        "id": "Ok7RGkea_b7n"
      }
    }
  ]
}