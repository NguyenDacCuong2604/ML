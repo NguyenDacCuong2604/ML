{
  "nbformat": 4,
  "nbformat_minor": 0,
  "metadata": {
    "colab": {
      "provenance": [],
      "include_colab_link": true
    },
    "kernelspec": {
      "name": "python3",
      "display_name": "Python 3"
    },
    "language_info": {
      "name": "python"
    }
  },
  "cells": [
    {
      "cell_type": "markdown",
      "metadata": {
        "id": "view-in-github",
        "colab_type": "text"
      },
      "source": [
        "<a href=\"https://colab.research.google.com/github/NguyenDacCuong2604/ML/blob/main/Lab_8_20130215_NguyenDacCuong.ipynb\" target=\"_parent\"><img src=\"https://colab.research.google.com/assets/colab-badge.svg\" alt=\"Open In Colab\"/></a>"
      ]
    },
    {
      "cell_type": "markdown",
      "source": [
        "# This lab deals with **GridSearchCV** for tuning the hyper-parameters of an estimator and applying vectorization techniques to the **movie reviews dataset** for classification task. \n",
        "\n",
        "*   **Deadline: 23:59, 17/4/2023**\n",
        "\n"
      ],
      "metadata": {
        "id": "LMzehe0sy5wr"
      }
    },
    {
      "cell_type": "markdown",
      "source": [
        "# Import libraries"
      ],
      "metadata": {
        "id": "H4nJmxp9zGX4"
      }
    },
    {
      "cell_type": "code",
      "execution_count": 1,
      "metadata": {
        "id": "DoVWQ8AEyc-C"
      },
      "outputs": [],
      "source": [
        "# code\n",
        "import numpy as np\n",
        "import pandas as pd\n",
        "from sklearn.model_selection import GridSearchCV\n",
        "from sklearn.svm import SVC\n",
        "from sklearn.datasets import load_iris\n",
        "from sklearn.model_selection import train_test_split"
      ]
    },
    {
      "cell_type": "markdown",
      "source": [
        "#Task 1. With **iris** dataset\n",
        "*  1.1. Apply **GridSearchCV** for **SVM** to find the best hyperparameters using the following param_grid.\n",
        "\n",
        "```\n",
        "param_grid = {'C': [0.1, 1, 10, 100, 1000],\n",
        "              'gamma': [1, 0.1, 0.01, 0.001, 0.0001],\n",
        "              'kernel': ['rbf','linear']}\n",
        "```\n",
        "\n",
        "\n"
      ],
      "metadata": {
        "id": "x_dG9SA5OhGT"
      }
    },
    {
      "cell_type": "code",
      "source": [
        "#code\n",
        "iris = load_iris()\n",
        "X = iris.data\n",
        "y = iris.target\n",
        "X_train, X_test, y_train, y_test = train_test_split(X, y, test_size=0.3, random_state=42)\n",
        "param_grid = {'C': [0.1, 1, 10, 100, 1000],'gamma': [1, 0.1, 0.01, 0.001, 0.0001],'kernel': ['rbf', 'linear']}\n",
        "svm = SVC()\n",
        "grid_search = GridSearchCV(svm, param_grid, cv=5)\n",
        "grid_search.fit(X_train, y_train)\n",
        "best_params_SVM = grid_search.best_params_\n",
        "best_score_SVM = grid_search.best_score_\n",
        "best_svm = SVC(**best_params_SVM)\n",
        "best_svm.fit(X_train, y_train)\n",
        "test_score_SVM = best_svm.score(X_test, y_test)\n",
        "print(\"Best Hyperparameters: \", best_params_SVM)\n",
        "print(\"Best Score: \", best_score_SVM)\n",
        "print(\"Test Score: \", test_score_SVM)"
      ],
      "metadata": {
        "id": "62jExOZ952fF",
        "colab": {
          "base_uri": "https://localhost:8080/"
        },
        "outputId": "903f601e-6c77-4193-9767-93c9b8c4d987"
      },
      "execution_count": 7,
      "outputs": [
        {
          "output_type": "stream",
          "name": "stdout",
          "text": [
            "Best Hyperparameters:  {'C': 100, 'gamma': 0.01, 'kernel': 'rbf'}\n",
            "Best Score:  0.9714285714285715\n",
            "Test Score:  1.0\n"
          ]
        }
      ]
    },
    {
      "cell_type": "markdown",
      "source": [
        "*  1.2. Apply **GridSearchCV** for **kNN** to find the best hyperparameters using the following param_grid.\n",
        "\n",
        "```\n",
        "grid_params = { 'n_neighbors' : [5,7,9,11,13,15],\n",
        "               'weights' : ['uniform','distance'],\n",
        "               'metric' : ['minkowski','euclidean','manhattan']}\n",
        "```\n",
        "where\n",
        "\n",
        "    *  **n_neighbors**: Decide the best k based on the values we have computed earlier.\n",
        "    *  **weights**: Check whether adding weights to the data points is beneficial to the model or not. 'uniform' assigns no weight, while 'distance' weighs points by the inverse of their distances meaning nearer points will have more weight than the farther points.\n",
        "    *  **metric**: The distance metric to be used will calculating the similarity.\n"
      ],
      "metadata": {
        "id": "2g--8cng53sY"
      }
    },
    {
      "cell_type": "code",
      "source": [
        "from sklearn.neighbors import KNeighborsClassifier"
      ],
      "metadata": {
        "id": "iX4yNh12LfWF"
      },
      "execution_count": 3,
      "outputs": []
    },
    {
      "cell_type": "code",
      "source": [
        "#code\n",
        "param_grid = {'n_neighbors': [5, 7, 9, 11, 13, 15],'weights': ['uniform', 'distance'],'metric': ['minkowski', 'euclidean', 'manhattan']}\n",
        "knn = KNeighborsClassifier()\n",
        "grid_search = GridSearchCV(knn, param_grid, cv=5)\n",
        "grid_search.fit(X_train, y_train)\n",
        "best_params_knn = grid_search.best_params_\n",
        "best_score_knn = grid_search.best_score_\n",
        "best_knn = KNeighborsClassifier(**best_params_knn)\n",
        "best_knn.fit(X_train, y_train)\n",
        "test_score_knn = best_knn.score(X_test, y_test)\n",
        "print(\"Best Hyperparameters: \", best_params_knn)\n",
        "print(\"Best Score: \", best_score_knn)\n",
        "print(\"Test Score: \", test_score_knn)"
      ],
      "metadata": {
        "id": "fX0_kItYPism",
        "colab": {
          "base_uri": "https://localhost:8080/"
        },
        "outputId": "00c821e8-d866-4799-fdd4-2004b9da090b"
      },
      "execution_count": 8,
      "outputs": [
        {
          "output_type": "stream",
          "name": "stdout",
          "text": [
            "Best Hyperparameters:  {'metric': 'manhattan', 'n_neighbors': 13, 'weights': 'uniform'}\n",
            "Best Score:  0.9619047619047618\n",
            "Test Score:  1.0\n"
          ]
        }
      ]
    },
    {
      "cell_type": "markdown",
      "source": [
        "*  1.3. Apply **GridSearchCV** for **Random Forest** to find the best hyperparameters using the following param_grid.\n",
        "\n",
        "```\n",
        "param_grid = {\n",
        "    'n_estimators': [25, 50, 100, 150],\n",
        "    'max_features': ['sqrt', 'log2', None],\n",
        "    'max_depth': [3, 6, 9],\n",
        "    'max_leaf_nodes': [3, 6, 9],\n",
        "}\n",
        "```"
      ],
      "metadata": {
        "id": "3lQSOcjL_TIW"
      }
    },
    {
      "cell_type": "code",
      "source": [
        "from sklearn.ensemble import RandomForestClassifier"
      ],
      "metadata": {
        "id": "KDXYxgrjL5ie"
      },
      "execution_count": 5,
      "outputs": []
    },
    {
      "cell_type": "code",
      "source": [
        "#code\n",
        "param_grid = {'n_estimators': [25, 50, 100, 150],'max_features': ['sqrt', 'log2', None],'max_depth': [3, 6, 9],'max_leaf_nodes': [3, 6, 9],}\n",
        "rf = RandomForestClassifier()\n",
        "grid_search = GridSearchCV(rf, param_grid, cv=5)\n",
        "grid_search.fit(X_train, y_train)\n",
        "best_params_rf = grid_search.best_params_\n",
        "best_score_rf = grid_search.best_score_\n",
        "best_rf = RandomForestClassifier(**best_params_rf)\n",
        "best_rf.fit(X_train, y_train)\n",
        "test_score_rf = best_rf.score(X_test, y_test)\n",
        "print(\"Best Hyperparameters: \", best_params_rf)\n",
        "print(\"Best Score: \", best_score_rf)\n",
        "print(\"Test Score: \", test_score_rf)"
      ],
      "metadata": {
        "id": "OlyF9WpN_01p",
        "colab": {
          "base_uri": "https://localhost:8080/"
        },
        "outputId": "41da009c-fd89-42e2-867f-2d596a771086"
      },
      "execution_count": 9,
      "outputs": [
        {
          "output_type": "stream",
          "name": "stdout",
          "text": [
            "Best Hyperparameters:  {'max_depth': 3, 'max_features': 'log2', 'max_leaf_nodes': 3, 'n_estimators': 100}\n",
            "Best Score:  0.9523809523809523\n",
            "Test Score:  1.0\n"
          ]
        }
      ]
    },
    {
      "cell_type": "markdown",
      "source": [
        "*   1.4 Compare the best obtained results from 1.1 to 1.3 (use PrettyTable to dispaly the results)"
      ],
      "metadata": {
        "id": "G3N7TD7s_3Kp"
      }
    },
    {
      "cell_type": "code",
      "source": [
        "from prettytable import PrettyTable"
      ],
      "metadata": {
        "id": "gr-eHhZ3McWX"
      },
      "execution_count": 11,
      "outputs": []
    },
    {
      "cell_type": "code",
      "source": [
        "table = PrettyTable()\n",
        "table.field_names = [\"Model\", \"Best Hyperparameters\", \"Best Score\", \"Test Score\"]\n",
        "table.add_row([\"SVM\", best_params_SVM, best_score_SVM, test_score_SVM])\n",
        "table.add_row([\"kNN\", best_params_knn, best_score_knn, test_score_knn])\n",
        "table.add_row([\"Random Forest\", best_params_rf, best_score_rf, test_score_rf])\n",
        "# Print the table\n",
        "print(table)"
      ],
      "metadata": {
        "colab": {
          "base_uri": "https://localhost:8080/"
        },
        "id": "4fW4VausMdnk",
        "outputId": "b27ac7e3-ec8d-43d5-da09-f4c4fbe67e00"
      },
      "execution_count": 12,
      "outputs": [
        {
          "output_type": "stream",
          "name": "stdout",
          "text": [
            "+---------------+------------------------------------------------------------------------------------+--------------------+------------+\n",
            "|     Model     |                                Best Hyperparameters                                |     Best Score     | Test Score |\n",
            "+---------------+------------------------------------------------------------------------------------+--------------------+------------+\n",
            "|      SVM      |                     {'C': 100, 'gamma': 0.01, 'kernel': 'rbf'}                     | 0.9714285714285715 |    1.0     |\n",
            "|      kNN      |          {'metric': 'manhattan', 'n_neighbors': 13, 'weights': 'uniform'}          | 0.9619047619047618 |    1.0     |\n",
            "| Random Forest | {'max_depth': 3, 'max_features': 'log2', 'max_leaf_nodes': 3, 'n_estimators': 100} | 0.9523809523809523 |    1.0     |\n",
            "+---------------+------------------------------------------------------------------------------------+--------------------+------------+\n"
          ]
        }
      ]
    },
    {
      "cell_type": "markdown",
      "source": [
        "#Task 2. \n",
        "For breast cancer dataset (https://tinyurl.com/3vme8hr3) which could be loaded from datasets in sklearn as follows:\n",
        "\n",
        "```\n",
        "#Import scikit-learn dataset library\n",
        "from sklearn import datasets\n",
        "\n",
        "#Load dataset\n",
        "cancer = datasets.load_breast_cancer()\n",
        "```\n",
        "\n",
        "*   Apply **GridSearchCV** to different classification algorithms such as **SVM, kNN, LogisticRegression, RandomForest**.\n",
        "*   Compare the results obtained by the best hyperparameters among classification algorithms."
      ],
      "metadata": {
        "id": "kNv07ARGzOUm"
      }
    },
    {
      "cell_type": "code",
      "source": [
        "# Import scikit-learn dataset library\n",
        "from sklearn import datasets\n",
        "from sklearn.preprocessing import StandardScaler\n",
        "# Load dataset\n",
        "cancer = datasets.load_breast_cancer()\n",
        "X = cancer.data\n",
        "y = cancer.target\n",
        "scaler = StandardScaler()\n",
        "X = scaler.fit_transform(X)"
      ],
      "metadata": {
        "id": "W-W0QbZIN_v4"
      },
      "execution_count": 31,
      "outputs": []
    },
    {
      "cell_type": "markdown",
      "source": [
        "*   2.1. Apply **GridSearchCV** to **SVM** \n"
      ],
      "metadata": {
        "id": "pnoVB8J4vV36"
      }
    },
    {
      "cell_type": "code",
      "source": [
        "# code\n",
        "param_grid = {'C': [0.1, 1, 10, 100, 1000],'gamma': [1, 0.1, 0.01, 0.001, 0.0001],'kernel': ['rbf','sigmoid']}\n",
        "svm = SVC()\n",
        "grid_search = GridSearchCV(svm, param_grid, scoring='accuracy', cv=5)\n",
        "grid_search.fit(X, y)\n",
        "best_params_svc = grid_search.best_params_\n",
        "best_score_svc = grid_search.best_score_\n",
        "print(\"Best Hyperparameters: \", best_params_svc)\n",
        "print(\"Best Score: \", best_score_svc)"
      ],
      "metadata": {
        "id": "-ZTSvsJdvYqI",
        "colab": {
          "base_uri": "https://localhost:8080/"
        },
        "outputId": "31683570-024b-4215-f76a-f5c6015e6b1a"
      },
      "execution_count": 32,
      "outputs": [
        {
          "output_type": "stream",
          "name": "stdout",
          "text": [
            "Best Hyperparameters:  {'C': 10, 'gamma': 0.01, 'kernel': 'rbf'}\n",
            "Best Score:  0.9789318428815401\n"
          ]
        }
      ]
    },
    {
      "cell_type": "markdown",
      "source": [
        "*   2.2. Apply **GridSearchCV** to **kNN** "
      ],
      "metadata": {
        "id": "ol1U_T_NvcqV"
      }
    },
    {
      "cell_type": "code",
      "source": [
        "#code\n",
        "param_grid = {'n_neighbors': [5, 7, 9, 11, 13, 15],'weights': ['uniform', 'distance'],'metric': ['minkowski', 'euclidean', 'manhattan']}\n",
        "knn = KNeighborsClassifier()\n",
        "grid_search = GridSearchCV(knn, param_grid, scoring='accuracy', cv=5)\n",
        "grid_search.fit(X, y)\n",
        "best_params_knn = grid_search.best_params_\n",
        "best_score_knn = grid_search.best_score_\n",
        "print(\"Best Hyperparameters: \", best_params_knn)\n",
        "print(\"Best Score: \", best_score_knn)\n"
      ],
      "metadata": {
        "id": "kt71yrAoBwYE",
        "colab": {
          "base_uri": "https://localhost:8080/"
        },
        "outputId": "785d29c3-7811-45ca-d2c0-8937bb558b05"
      },
      "execution_count": 33,
      "outputs": [
        {
          "output_type": "stream",
          "name": "stdout",
          "text": [
            "Best Hyperparameters:  {'metric': 'minkowski', 'n_neighbors': 9, 'weights': 'uniform'}\n",
            "Best Score:  0.968390001552554\n"
          ]
        }
      ]
    },
    {
      "cell_type": "markdown",
      "source": [
        "*   2.3. Apply **GridSearchCV** to **LogisticRegression** "
      ],
      "metadata": {
        "id": "pPkAvse-BxNa"
      }
    },
    {
      "cell_type": "code",
      "source": [
        "from sklearn.linear_model import LogisticRegression"
      ],
      "metadata": {
        "id": "iYl1cDJ7QDdl"
      },
      "execution_count": 27,
      "outputs": []
    },
    {
      "cell_type": "code",
      "source": [
        "#code\n",
        "param_grid = {'C': [0.001, 0.01, 0.1, 1, 10],'penalty': ['l1', 'l2'],'solver': ['liblinear', 'saga']}\n",
        "logreg = LogisticRegression(max_iter=5000, random_state=1)\n",
        "grid_search = GridSearchCV(logreg, param_grid, scoring='accuracy', cv=5)\n",
        "grid_search.fit(X, y)\n",
        "best_params_lg = grid_search.best_params_\n",
        "best_score_lg = grid_search.best_score_\n",
        "print(\"Best Hyperparameters: \", best_params_lg)\n",
        "print(\"Best Score: \", best_score_lg)"
      ],
      "metadata": {
        "id": "nyYjpHFbB1Ci",
        "colab": {
          "base_uri": "https://localhost:8080/"
        },
        "outputId": "eb0a2f84-93ee-42c2-f444-ec46097aa2a4"
      },
      "execution_count": 36,
      "outputs": [
        {
          "output_type": "stream",
          "name": "stdout",
          "text": [
            "Best Hyperparameters:  {'C': 0.1, 'penalty': 'l2', 'solver': 'liblinear'}\n",
            "Best Score:  0.982425089271852\n"
          ]
        }
      ]
    },
    {
      "cell_type": "markdown",
      "source": [
        "*   2.4. Apply **GridSearchCV** to **RandomForest** "
      ],
      "metadata": {
        "id": "3NjSLo5jB1xY"
      }
    },
    {
      "cell_type": "code",
      "source": [
        "#code\n",
        "param_grid = {'n_estimators': [25, 50, 100, 150],'max_features': ['sqrt', 'log2', None],'max_depth': [3, 6, 9],'max_leaf_nodes': [3, 6, 9],}\n",
        "rf = RandomForestClassifier()\n",
        "grid_search = GridSearchCV(rf, param_grid, cv=5)\n",
        "grid_search.fit(X_train, y_train)\n",
        "best_params_rf = grid_search.best_params_\n",
        "best_score_rf = grid_search.best_score_\n",
        "print(\"Best Hyperparameters: \", best_params_rf)\n",
        "print(\"Best Score: \", best_score_rf)"
      ],
      "metadata": {
        "id": "nktGtM0PB7XB",
        "colab": {
          "base_uri": "https://localhost:8080/"
        },
        "outputId": "86bdde2b-3e2c-4b69-fa88-ae00d8e1058f"
      },
      "execution_count": 37,
      "outputs": [
        {
          "output_type": "stream",
          "name": "stdout",
          "text": [
            "Best Hyperparameters:  {'max_depth': 3, 'max_features': 'sqrt', 'max_leaf_nodes': 9, 'n_estimators': 50}\n",
            "Best Score:  0.9523809523809523\n"
          ]
        }
      ]
    },
    {
      "cell_type": "markdown",
      "source": [
        "*   2.5. Compare the best obtained results among classification algorithms (use PrettyTable to dispaly the results) "
      ],
      "metadata": {
        "id": "NZJ3BSHpB9Dx"
      }
    },
    {
      "cell_type": "code",
      "source": [
        "#code\n",
        "table = PrettyTable()\n",
        "table.field_names = [\"Model\", \"Best Hyperparameters\", \"Best Score\"]\n",
        "table.add_row([\"SVM\", best_params_svc, best_score_svc])\n",
        "table.add_row([\"kNN\", best_params_knn, best_score_knn])\n",
        "table.add_row([\"LogisticRegression\", best_params_lg, best_score_lg])\n",
        "table.add_row([\"Random Forest\", best_params_rf, best_score_rf])\n",
        "# Print the table\n",
        "print(table)"
      ],
      "metadata": {
        "id": "8LS_IYfNCFEj",
        "colab": {
          "base_uri": "https://localhost:8080/"
        },
        "outputId": "efe3e263-15ec-41a3-aa3f-95a0d18be116"
      },
      "execution_count": 38,
      "outputs": [
        {
          "output_type": "stream",
          "name": "stdout",
          "text": [
            "+--------------------+-----------------------------------------------------------------------------------+--------------------+\n",
            "|       Model        |                                Best Hyperparameters                               |     Best Score     |\n",
            "+--------------------+-----------------------------------------------------------------------------------+--------------------+\n",
            "|        SVM         |                     {'C': 10, 'gamma': 0.01, 'kernel': 'rbf'}                     | 0.9789318428815401 |\n",
            "|        kNN         |          {'metric': 'minkowski', 'n_neighbors': 9, 'weights': 'uniform'}          | 0.968390001552554  |\n",
            "| LogisticRegression |                 {'C': 0.1, 'penalty': 'l2', 'solver': 'liblinear'}                | 0.982425089271852  |\n",
            "|   Random Forest    | {'max_depth': 3, 'max_features': 'sqrt', 'max_leaf_nodes': 9, 'n_estimators': 50} | 0.9523809523809523 |\n",
            "+--------------------+-----------------------------------------------------------------------------------+--------------------+\n"
          ]
        }
      ]
    },
    {
      "cell_type": "markdown",
      "source": [
        "#Task 3. \n",
        "The dataset consists of **2000 user-created movie reviews** archived on the IMDb(Internet Movie Database). The reviews are equally partitioned into a positive set and a negative set (1000+1000). Each review consists of a plain text file (.txt) and a class label representing the overall user opinion. \n",
        "The class attribute has only two values: **pos** (positive) or **neg** (negative).\n"
      ],
      "metadata": {
        "id": "b52OPWPD2afi"
      }
    },
    {
      "cell_type": "markdown",
      "source": [
        "*   3.1 Importing additional libraries"
      ],
      "metadata": {
        "id": "lDcxOQRmDz_h"
      }
    },
    {
      "cell_type": "code",
      "source": [
        "import nltk, random\n",
        "nltk.download('movie_reviews')#download movie reviews dataset\n",
        "from nltk.corpus import movie_reviews\n",
        "import pandas as pd\n",
        "import matplotlib.pyplot as plt\n",
        "import numpy as np\n",
        "from sklearn.model_selection import cross_val_score\n",
        "from collections import Counter\n",
        "from sklearn.model_selection import train_test_split"
      ],
      "metadata": {
        "id": "ZjyW06skDwvL",
        "colab": {
          "base_uri": "https://localhost:8080/"
        },
        "outputId": "868e07e5-bb99-48d2-9db1-550d7319df14"
      },
      "execution_count": 39,
      "outputs": [
        {
          "output_type": "stream",
          "name": "stderr",
          "text": [
            "[nltk_data] Downloading package movie_reviews to /root/nltk_data...\n",
            "[nltk_data]   Unzipping corpora/movie_reviews.zip.\n"
          ]
        }
      ]
    },
    {
      "cell_type": "markdown",
      "source": [
        "*   3.2. Movie reviews information"
      ],
      "metadata": {
        "id": "RJpsTIiyv-1h"
      }
    },
    {
      "cell_type": "code",
      "source": [
        "#code\n",
        "print(len(movie_reviews.fileids()))\n",
        "print(movie_reviews.categories())\n",
        "print(movie_reviews.words()[:100])\n",
        "print(movie_reviews.fileids()[:10])"
      ],
      "metadata": {
        "id": "5ZE7A0Au1Pg0",
        "colab": {
          "base_uri": "https://localhost:8080/"
        },
        "outputId": "0909ece0-92eb-4586-c563-311a7d8d6ccf"
      },
      "execution_count": 40,
      "outputs": [
        {
          "output_type": "stream",
          "name": "stdout",
          "text": [
            "2000\n",
            "['neg', 'pos']\n",
            "['plot', ':', 'two', 'teen', 'couples', 'go', 'to', ...]\n",
            "['neg/cv000_29416.txt', 'neg/cv001_19502.txt', 'neg/cv002_17424.txt', 'neg/cv003_12683.txt', 'neg/cv004_12641.txt', 'neg/cv005_29357.txt', 'neg/cv006_17022.txt', 'neg/cv007_4992.txt', 'neg/cv008_29326.txt', 'neg/cv009_29417.txt']\n"
          ]
        }
      ]
    },
    {
      "cell_type": "markdown",
      "source": [
        "*   3.3. Create dataset from movie reviews"
      ],
      "metadata": {
        "id": "6pHmMpqMHS23"
      }
    },
    {
      "cell_type": "code",
      "source": [
        "documents = [(list(movie_reviews.words(fileid)), category)\n",
        "             for category in movie_reviews.categories()\n",
        "             for fileid in movie_reviews.fileids(category)]\n",
        "random.seed(123)\n",
        "random.shuffle(documents)"
      ],
      "metadata": {
        "id": "45aY6woMHSH5"
      },
      "execution_count": 41,
      "outputs": []
    },
    {
      "cell_type": "code",
      "source": [
        "print('Number of Reviews/Documents: {}'.format(len(documents)))\n",
        "print('Corpus Size (words): {}'.format(np.sum([len(d) for (d,l) in documents])))\n",
        "print('Sample Text of Doc 1:')\n",
        "print('-'*30)\n",
        "print(' '.join(documents[0][0][:50])) # first 50 words of the first document"
      ],
      "metadata": {
        "id": "NNke0Da5HqFa",
        "colab": {
          "base_uri": "https://localhost:8080/"
        },
        "outputId": "9741fdf5-0e43-4fd3-811b-ea82b5aae169"
      },
      "execution_count": 42,
      "outputs": [
        {
          "output_type": "stream",
          "name": "stdout",
          "text": [
            "Number of Reviews/Documents: 2000\n",
            "Corpus Size (words): 1583820\n",
            "Sample Text of Doc 1:\n",
            "------------------------------\n",
            "most movies seem to release a third movie just so it can be called a trilogy . rocky iii seems to kind of fit in that category , but manages to be slightly unique . the rocky formula of \" rocky loses fight / rocky trains / rocky wins fight\n"
          ]
        }
      ]
    },
    {
      "cell_type": "code",
      "source": [
        "sentiment_distr = Counter([label for (words, label) in documents])\n",
        "print(sentiment_distr)"
      ],
      "metadata": {
        "id": "vVFUEhnXHsGd",
        "colab": {
          "base_uri": "https://localhost:8080/"
        },
        "outputId": "56b1b660-498d-4be3-e30f-eb540e7c78e8"
      },
      "execution_count": 43,
      "outputs": [
        {
          "output_type": "stream",
          "name": "stdout",
          "text": [
            "Counter({'pos': 1000, 'neg': 1000})\n"
          ]
        }
      ]
    },
    {
      "cell_type": "markdown",
      "source": [
        "*   3.4. Train test split"
      ],
      "metadata": {
        "id": "jTXiEbMzHgVC"
      }
    },
    {
      "cell_type": "code",
      "source": [
        "train, test = train_test_split(documents, test_size = 0.33, random_state=42)"
      ],
      "metadata": {
        "id": "v_-0gZZFHvJN"
      },
      "execution_count": 44,
      "outputs": []
    },
    {
      "cell_type": "code",
      "source": [
        "## Sentiment Distrubtion for Train and Test\n",
        "print(Counter([label for (words, label) in train]))\n",
        "print(Counter([label for (words, label) in test]))"
      ],
      "metadata": {
        "id": "UUGlm5TGHvpV",
        "colab": {
          "base_uri": "https://localhost:8080/"
        },
        "outputId": "a2d968ee-1a6f-4f2c-d349-b587b562cc7c"
      },
      "execution_count": 45,
      "outputs": [
        {
          "output_type": "stream",
          "name": "stdout",
          "text": [
            "Counter({'neg': 674, 'pos': 666})\n",
            "Counter({'pos': 334, 'neg': 326})\n"
          ]
        }
      ]
    },
    {
      "cell_type": "code",
      "source": [
        "X_train = [' '.join(words) for (words, label) in train]\n",
        "X_test = [' '.join(words) for (words, label) in test]\n",
        "y_train = [label for (words, label) in train]\n",
        "y_test = [label for (words, label) in test]"
      ],
      "metadata": {
        "id": "l1ppl_0RHx1P"
      },
      "execution_count": 46,
      "outputs": []
    },
    {
      "cell_type": "markdown",
      "source": [
        "*   3.5. Text Vectorization"
      ],
      "metadata": {
        "id": "7xUaXrjxH6Ee"
      }
    },
    {
      "cell_type": "code",
      "source": [
        "from sklearn.feature_extraction.text import CountVectorizer, TfidfVectorizer\n",
        "\n",
        "tfidf_vec = TfidfVectorizer(min_df = 10, token_pattern = r'[a-zA-Z]+')\n",
        "X_train_bow = tfidf_vec.fit_transform(X_train) # fit train\n",
        "X_test_bow = tfidf_vec.transform(X_test) # transform test"
      ],
      "metadata": {
        "id": "fzwM0nsIH-8l"
      },
      "execution_count": 47,
      "outputs": []
    },
    {
      "cell_type": "markdown",
      "source": [
        "*   3.6. Apply **SVM** with **GridSearchCV** "
      ],
      "metadata": {
        "id": "BP1vB3loIF28"
      }
    },
    {
      "cell_type": "code",
      "source": [
        "#code\n",
        "param_grid = {'C': [0.1, 1, 10],'gamma': [1, 0.1, 0.01],'kernel': ['rbf', 'poly']}\n",
        "svm = SVC()\n",
        "grid_search = GridSearchCV(svm, param_grid, cv=5)\n",
        "grid_search.fit(X_train_bow, y_train)\n",
        "best_params_SVM = grid_search.best_params_\n",
        "best_score_SVM = grid_search.best_score_\n",
        "best_svm = SVC(**best_params_SVM)\n",
        "best_svm.fit(X_train_bow, y_train)\n",
        "test_score_SVM = best_svm.score(X_test_bow, y_test)\n",
        "print(\"Best Hyperparameters: \", best_params_SVM)\n",
        "print(\"Best Score: \", best_score_SVM)\n",
        "print(\"Test Score: \", test_score_SVM)"
      ],
      "metadata": {
        "id": "b3FHQqh1Hlrd",
        "colab": {
          "base_uri": "https://localhost:8080/"
        },
        "outputId": "3d5fc44b-26db-4daf-d63e-a93b0edcb291"
      },
      "execution_count": 59,
      "outputs": [
        {
          "output_type": "stream",
          "name": "stdout",
          "text": [
            "Best Hyperparameters:  {'C': 10, 'gamma': 0.1, 'kernel': 'rbf'}\n",
            "Best Score:  0.85\n",
            "Test Score:  0.8121212121212121\n"
          ]
        }
      ]
    },
    {
      "cell_type": "markdown",
      "source": [
        "*   3.7. Apply **RandomForest** with **GridSearchCV** "
      ],
      "metadata": {
        "id": "N1Fy8jYBIdxi"
      }
    },
    {
      "cell_type": "code",
      "source": [
        "#code\n",
        "param_grid = {'n_estimators': [25, 50, 100],'max_features': ['sqrt', 'log2', None],'max_depth': [3, 6, 9],'max_leaf_nodes': [3, 6, 9],}\n",
        "rf = RandomForestClassifier()\n",
        "grid_search = GridSearchCV(rf, param_grid, cv=5)\n",
        "grid_search.fit(X_train_bow, y_train)\n",
        "best_params_rf = grid_search.best_params_\n",
        "best_score_rf = grid_search.best_score_\n",
        "best_rf = RandomForestClassifier(**best_params_rf)\n",
        "best_rf.fit(X_train_bow, y_train)\n",
        "test_score_rf = best_rf.score(X_test_bow, y_test)\n",
        "print(\"Best Hyperparameters: \", best_params_rf)\n",
        "print(\"Best Score: \", best_score_rf)\n",
        "print(\"Test Score: \", test_score_rf)"
      ],
      "metadata": {
        "id": "Fyfw2R-gIhWl",
        "colab": {
          "base_uri": "https://localhost:8080/"
        },
        "outputId": "36b4d8f0-6825-4771-db36-2edbd979d90e"
      },
      "execution_count": 60,
      "outputs": [
        {
          "output_type": "stream",
          "name": "stdout",
          "text": [
            "Best Hyperparameters:  {'max_depth': 9, 'max_features': 'sqrt', 'max_leaf_nodes': 6, 'n_estimators': 100}\n",
            "Best Score:  0.7932835820895523\n",
            "Test Score:  0.7772727272727272\n"
          ]
        }
      ]
    },
    {
      "cell_type": "markdown",
      "source": [
        "*   3.8. Apply **kNN** with **GridSearchCV** "
      ],
      "metadata": {
        "id": "_btsVKjIIiLT"
      }
    },
    {
      "cell_type": "code",
      "source": [
        "#code\n",
        "param_grid = {'n_neighbors': [5, 7, 9, 11],'weights': ['uniform', 'distance'],'metric': ['minkowski', 'euclidean', 'manhattan']}\n",
        "knn = KNeighborsClassifier()\n",
        "grid_search = GridSearchCV(knn, param_grid, cv=5)\n",
        "grid_search.fit(X_train_bow, y_train)\n",
        "best_params_knn = grid_search.best_params_\n",
        "best_score_knn = grid_search.best_score_\n",
        "best_knn = KNeighborsClassifier(**best_params_knn)\n",
        "best_knn.fit(X_train_bow, y_train)\n",
        "test_score_knn = best_knn.score(X_test_bow, y_test)\n",
        "print(\"Best Hyperparameters: \", best_params_knn)\n",
        "print(\"Best Score: \", best_score_knn)\n",
        "print(\"Test Score: \", test_score_knn)"
      ],
      "metadata": {
        "id": "IZmFu1ZQImhn",
        "colab": {
          "base_uri": "https://localhost:8080/"
        },
        "outputId": "994cd2cd-674d-4ada-88c3-55aeeaba2f42"
      },
      "execution_count": 61,
      "outputs": [
        {
          "output_type": "stream",
          "name": "stdout",
          "text": [
            "Best Hyperparameters:  {'metric': 'minkowski', 'n_neighbors': 7, 'weights': 'distance'}\n",
            "Best Score:  0.628358208955224\n",
            "Test Score:  0.6166666666666667\n"
          ]
        }
      ]
    },
    {
      "cell_type": "markdown",
      "source": [
        "*   3.9. Apply **LogisticRegression** with **GridSearchCV** "
      ],
      "metadata": {
        "id": "0Ix_HeVGIvDu"
      }
    },
    {
      "cell_type": "code",
      "source": [
        "#code\n",
        "param_grid = {'C': [0.001, 0.01, 0.1, 1, 10],'penalty': ['l1', 'l2'],'solver': ['liblinear', 'saga']}\n",
        "logreg = LogisticRegression(max_iter=5000, random_state=1)\n",
        "grid_search = GridSearchCV(logreg, param_grid, cv=5)\n",
        "grid_search.fit(X_train_bow, y_train)\n",
        "best_params_lg = grid_search.best_params_\n",
        "best_score_lg = grid_search.best_score_\n",
        "best_lg = LogisticRegression(**best_params_lg)\n",
        "best_lg.fit(X_train_bow, y_train)\n",
        "test_score_lg = best_lg.score(X_test_bow, y_test)\n",
        "print(\"Best Hyperparameters: \", best_params_lg)\n",
        "print(\"Best Score: \", best_score_lg)\n",
        "print(\"Test Score: \", test_score_lg)"
      ],
      "metadata": {
        "id": "sTd3alCMIr-i",
        "colab": {
          "base_uri": "https://localhost:8080/"
        },
        "outputId": "c7f0431b-104b-47b1-9058-510f74dbf636"
      },
      "execution_count": 56,
      "outputs": [
        {
          "output_type": "stream",
          "name": "stdout",
          "text": [
            "Best Hyperparameters:  {'C': 10, 'penalty': 'l2', 'solver': 'saga'}\n",
            "Best Score:  0.8514925373134329\n",
            "Test Score:  0.8242424242424242\n"
          ]
        }
      ]
    },
    {
      "cell_type": "markdown",
      "source": [
        "*   3.10. Compare the best obtained results among classification algorithms (use PrettyTable to dispaly the results) "
      ],
      "metadata": {
        "id": "nhYF2y6eI058"
      }
    },
    {
      "cell_type": "code",
      "source": [
        "table = PrettyTable()\n",
        "table.field_names = [\"Model\", \"Best Hyperparameters\", \"Best Score\", \"Test Score\"]\n",
        "table.add_row([\"SVM\", best_params_SVM, best_score_SVM, test_score_SVM])\n",
        "table.add_row([\"kNN\", best_params_knn, best_score_knn, test_score_knn])\n",
        "table.add_row([\"Random Forest\", best_params_rf, best_score_rf, test_score_rf])\n",
        "table.add_row([\"LogisticRegression\", best_params_lg, best_score_lg, test_score_lg])\n",
        "# Print the table\n",
        "print(table)"
      ],
      "metadata": {
        "colab": {
          "base_uri": "https://localhost:8080/"
        },
        "id": "zedzcn9vVMCV",
        "outputId": "65dcd623-2cb8-4934-bc59-0c03e2d5cdf9"
      },
      "execution_count": 62,
      "outputs": [
        {
          "output_type": "stream",
          "name": "stdout",
          "text": [
            "+--------------------+------------------------------------------------------------------------------------+--------------------+--------------------+\n",
            "|       Model        |                                Best Hyperparameters                                |     Best Score     |     Test Score     |\n",
            "+--------------------+------------------------------------------------------------------------------------+--------------------+--------------------+\n",
            "|        SVM         |                      {'C': 10, 'gamma': 0.1, 'kernel': 'rbf'}                      |        0.85        | 0.8121212121212121 |\n",
            "|        kNN         |          {'metric': 'minkowski', 'n_neighbors': 7, 'weights': 'distance'}          | 0.628358208955224  | 0.6166666666666667 |\n",
            "|   Random Forest    | {'max_depth': 9, 'max_features': 'sqrt', 'max_leaf_nodes': 6, 'n_estimators': 100} | 0.7932835820895523 | 0.7772727272727272 |\n",
            "| LogisticRegression |                    {'C': 10, 'penalty': 'l2', 'solver': 'saga'}                    | 0.8514925373134329 | 0.8242424242424242 |\n",
            "+--------------------+------------------------------------------------------------------------------------+--------------------+--------------------+\n"
          ]
        }
      ]
    },
    {
      "cell_type": "markdown",
      "source": [
        "#Finally,\n",
        "Save a copy in your Github. Remember renaming the notebook."
      ],
      "metadata": {
        "id": "Ok7RGkea_b7n"
      }
    }
  ]
}